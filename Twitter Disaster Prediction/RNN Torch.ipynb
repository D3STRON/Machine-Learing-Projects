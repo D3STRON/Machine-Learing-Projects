{
 "cells": [
  {
   "cell_type": "code",
   "execution_count": 370,
   "id": "e883c026",
   "metadata": {},
   "outputs": [],
   "source": [
    "import pandas as pd\n",
    "import numpy as np\n",
    "import tqdm\n",
    "\n",
    "import matplotlib.pyplot as plt\n",
    "from sklearn.model_selection import train_test_split\n",
    "import spacy\n",
    "from sklearn.utils import resample\n",
    "\n",
    "import torch\n",
    "from torchtext import data\n",
    "from sklearn.metrics import f1_score\n",
    "import pandas as pd \n",
    "import re\n",
    "import random\n",
    "\n",
    "import torch.nn as nn\n",
    "import torch.nn.functional as F\n",
    "import torch.nn as nn\n",
    "from sklearn.preprocessing import StandardScaler\n",
    "import torch.optim as optim"
   ]
  },
  {
   "cell_type": "code",
   "execution_count": 371,
   "id": "0b6bff1a",
   "metadata": {},
   "outputs": [
    {
     "data": {
      "text/plain": [
       "device(type='cuda')"
      ]
     },
     "execution_count": 371,
     "metadata": {},
     "output_type": "execute_result"
    }
   ],
   "source": [
    "device = torch.device('cuda' if torch.cuda.is_available() else 'cpu')\n",
    "device"
   ]
  },
  {
   "cell_type": "code",
   "execution_count": 372,
   "id": "999f11c4",
   "metadata": {},
   "outputs": [
    {
     "data": {
      "text/html": [
       "<div>\n",
       "<style scoped>\n",
       "    .dataframe tbody tr th:only-of-type {\n",
       "        vertical-align: middle;\n",
       "    }\n",
       "\n",
       "    .dataframe tbody tr th {\n",
       "        vertical-align: top;\n",
       "    }\n",
       "\n",
       "    .dataframe thead th {\n",
       "        text-align: right;\n",
       "    }\n",
       "</style>\n",
       "<table border=\"1\" class=\"dataframe\">\n",
       "  <thead>\n",
       "    <tr style=\"text-align: right;\">\n",
       "      <th></th>\n",
       "      <th>id</th>\n",
       "      <th>keyword</th>\n",
       "      <th>location</th>\n",
       "      <th>text</th>\n",
       "      <th>target</th>\n",
       "    </tr>\n",
       "  </thead>\n",
       "  <tbody>\n",
       "    <tr>\n",
       "      <th>0</th>\n",
       "      <td>1</td>\n",
       "      <td>NaN</td>\n",
       "      <td>NaN</td>\n",
       "      <td>Our Deeds are the Reason of this #earthquake M...</td>\n",
       "      <td>1</td>\n",
       "    </tr>\n",
       "    <tr>\n",
       "      <th>1</th>\n",
       "      <td>4</td>\n",
       "      <td>NaN</td>\n",
       "      <td>NaN</td>\n",
       "      <td>Forest fire near La Ronge Sask. Canada</td>\n",
       "      <td>1</td>\n",
       "    </tr>\n",
       "    <tr>\n",
       "      <th>2</th>\n",
       "      <td>5</td>\n",
       "      <td>NaN</td>\n",
       "      <td>NaN</td>\n",
       "      <td>All residents asked to 'shelter in place' are ...</td>\n",
       "      <td>1</td>\n",
       "    </tr>\n",
       "    <tr>\n",
       "      <th>3</th>\n",
       "      <td>6</td>\n",
       "      <td>NaN</td>\n",
       "      <td>NaN</td>\n",
       "      <td>13,000 people receive #wildfires evacuation or...</td>\n",
       "      <td>1</td>\n",
       "    </tr>\n",
       "    <tr>\n",
       "      <th>4</th>\n",
       "      <td>7</td>\n",
       "      <td>NaN</td>\n",
       "      <td>NaN</td>\n",
       "      <td>Just got sent this photo from Ruby #Alaska as ...</td>\n",
       "      <td>1</td>\n",
       "    </tr>\n",
       "  </tbody>\n",
       "</table>\n",
       "</div>"
      ],
      "text/plain": [
       "   id keyword location                                               text  \\\n",
       "0   1     NaN      NaN  Our Deeds are the Reason of this #earthquake M...   \n",
       "1   4     NaN      NaN             Forest fire near La Ronge Sask. Canada   \n",
       "2   5     NaN      NaN  All residents asked to 'shelter in place' are ...   \n",
       "3   6     NaN      NaN  13,000 people receive #wildfires evacuation or...   \n",
       "4   7     NaN      NaN  Just got sent this photo from Ruby #Alaska as ...   \n",
       "\n",
       "   target  \n",
       "0       1  \n",
       "1       1  \n",
       "2       1  \n",
       "3       1  \n",
       "4       1  "
      ]
     },
     "execution_count": 372,
     "metadata": {},
     "output_type": "execute_result"
    }
   ],
   "source": [
    "raw_train_df = pd.read_csv(\"./data/train.csv\")\n",
    "raw_test_df = pd.read_csv(\"./data/test.csv\")\n",
    "raw_train_df.head()"
   ]
  },
  {
   "cell_type": "code",
   "execution_count": 373,
   "id": "254b316b",
   "metadata": {},
   "outputs": [],
   "source": [
    "del raw_train_df['keyword']\n",
    "del raw_train_df['location']\n",
    "del raw_train_df['id']"
   ]
  },
  {
   "cell_type": "code",
   "execution_count": 374,
   "id": "502b9498",
   "metadata": {},
   "outputs": [],
   "source": [
    "def text_cleaner(text):\n",
    "    text = text.lower() # convert to lowercase\n",
    "    text = re.sub(r'[^a-zA-Z0-9\\s]', '', text) # remove punctuation and special characters\n",
    "    text = re.sub(r'\\s+', ' ', text) # remove extra whitespace\n",
    "    text = re.sub(r'https?://\\S+', '', text) # remove URLs\n",
    "    text = re.sub(r\"#\", \"\", text)\n",
    "    return text"
   ]
  },
  {
   "cell_type": "code",
   "execution_count": 375,
   "id": "9408026c",
   "metadata": {},
   "outputs": [],
   "source": [
    "# Replaces the null values in the data with an empty string\n",
    "train_data = raw_train_df.where((pd.notnull(raw_train_df)),'')\n",
    "test_data = raw_test_df.where((pd.notnull(raw_test_df)),'')\n",
    "\n",
    "train_data['text'] = train_data['text'].apply(text_cleaner)\n",
    "test_data['text'] = test_data['text'].apply(text_cleaner)"
   ]
  },
  {
   "cell_type": "code",
   "execution_count": 377,
   "id": "880659de",
   "metadata": {},
   "outputs": [],
   "source": [
    "# X=train_data['text'].apply(gensim.utils.simple_preprocess)\n",
    "# Y = train_data['target']\n",
    "# model.wv[\"holding\"].shape\n",
    "\n",
    "df_majority = train_data[train_data['target'] == 0]\n",
    "df_minority = train_data[train_data['target'] == 1]\n",
    "\n",
    "# Upsample the minority class\n",
    "df_minority_upsampled = df_minority.sample(replace=True, n=len(df_majority), random_state=123)\n",
    "\n",
    "# Combine the majority class and the upsampled minority class\n",
    "df_upsampled = pd.concat([df_majority, df_minority_upsampled])\n",
    "\n",
    "# Shuffle the rows of the new dataframe\n",
    "train_data = df_upsampled.sample(frac=1).reset_index(drop=True)\n",
    "\n",
    "X, Y = train_data['text'], train_data['target']"
   ]
  },
  {
   "cell_type": "code",
   "execution_count": 378,
   "id": "326071dc",
   "metadata": {},
   "outputs": [
    {
     "name": "stderr",
     "output_type": "stream",
     "text": [
      "100%|█████████████████████████████████████████████████████████████████████████████| 8684/8684 [00:54<00:00, 159.64it/s]\n"
     ]
    }
   ],
   "source": [
    "nlp = spacy.load('en_core_web_md')\n",
    "X_vector = []\n",
    "pbar = tqdm.trange(X.shape[0])\n",
    "for t in pbar:\n",
    "    doc = nlp(X[t])\n",
    "    doc_tensor = []\n",
    "    for i in range(len(doc)):\n",
    "        word_tensor = torch.tensor(doc[i].vector)\n",
    "        doc_tensor.append(word_tensor.reshape(1,len(word_tensor)))\n",
    "    X_vector.append(doc_tensor)"
   ]
  },
  {
   "cell_type": "code",
   "execution_count": 379,
   "id": "04af224b",
   "metadata": {},
   "outputs": [
    {
     "name": "stderr",
     "output_type": "stream",
     "text": [
      "C:\\Users\\GHOSH\\AppData\\Local\\Temp\\ipykernel_27108\\2935369227.py:1: FutureWarning: The input object of type 'Tensor' is an array-like implementing one of the corresponding protocols (`__array__`, `__array_interface__` or `__array_struct__`); but not a sequence (or 0-D). In the future, this object will be coerced as if it was first converted using `np.array(obj)`. To retain the old behaviour, you have to either modify the type 'Tensor', or assign to an empty array created with `np.empty(correct_shape, dtype=object)`.\n",
      "  X_vector = np.array(X_vector)\n",
      "C:\\Users\\GHOSH\\AppData\\Local\\Temp\\ipykernel_27108\\2935369227.py:1: VisibleDeprecationWarning: Creating an ndarray from ragged nested sequences (which is a list-or-tuple of lists-or-tuples-or ndarrays with different lengths or shapes) is deprecated. If you meant to do this, you must specify 'dtype=object' when creating the ndarray.\n",
      "  X_vector = np.array(X_vector)\n"
     ]
    },
    {
     "name": "stdout",
     "output_type": "stream",
     "text": [
      "1064    0\n",
      "3188    1\n",
      "8262    1\n",
      "8516    0\n",
      "3384    1\n",
      "       ..\n",
      "491     0\n",
      "3479    0\n",
      "221     1\n",
      "5915    1\n",
      "4176    1\n",
      "Name: target, Length: 1737, dtype: int64\n",
      "(6947,) (1737,)\n"
     ]
    }
   ],
   "source": [
    "X_vector = np.array(X_vector)\n",
    "X_train, X_test, Y_train, Y_test = train_test_split(X_vector, Y, test_size=0.2, random_state= 3)\n",
    "\n",
    "print(Y_test)\n",
    "Y_train = torch.from_numpy(Y_train.values)\n",
    "Y_test = torch.from_numpy(Y_test.values)\n",
    "\n",
    "Y_test = Y_test.view(Y_test.shape[0],1)\n",
    "Y_train = Y_train.view(Y_train.shape[0],1)\n",
    "\n",
    "print(X_train.shape, X_test.shape)"
   ]
  },
  {
   "cell_type": "code",
   "execution_count": 381,
   "id": "fde3224f",
   "metadata": {},
   "outputs": [],
   "source": [
    "class RNN(nn.Module):\n",
    "    def __init__(self, input_size, hidden_dims,  hidden_size, output_size):\n",
    "        super(RNN, self).__init__()\n",
    "        \n",
    "        self.hidden_size = hidden_size\n",
    "        self.i2h_ = nn.Linear(input_size + hidden_size, hidden_dims)\n",
    "        self.h_2h = nn.Linear(hidden_dims, hidden_size)\n",
    "        self.i2h = nn.Linear(input_size + hidden_size, hidden_dims)\n",
    "        self.h2o = nn.Linear(hidden_dims, output_size)\n",
    "        self.softmax = nn.LogSoftmax(dim= 1)\n",
    "        \n",
    "    def forward(self, input_tensor, hidden_tensor):\n",
    "        combined = torch.cat((input_tensor, hidden_tensor), 1)\n",
    "        hidden1  = self.i2h_(combined)\n",
    "        hidden = self.h_2h(hidden1)\n",
    "        hidden2 = self.i2h(combined)\n",
    "        output = self.softmax(self.h2o(hidden2))\n",
    "        return output, hidden\n",
    "    \n",
    "    def init_hidden(self):\n",
    "        return torch.zeros(1, self.hidden_size)"
   ]
  },
  {
   "cell_type": "code",
   "execution_count": 402,
   "id": "bf3a1374",
   "metadata": {},
   "outputs": [
    {
     "name": "stdout",
     "output_type": "stream",
     "text": [
      "1000 1.0 0.1698 / 0 Correct\n",
      "2000 2.0 0.9356 / 1 Wrong (0)\n",
      "3000 3.0 0.4451 / 0 Correct\n",
      "4000 4.0 0.4675 / 1 Correct\n",
      "5000 5.0 1.4516 / 1 Wrong (0)\n",
      "6000 6.0 0.7844 / 1 Wrong (0)\n",
      "7000 7.000000000000001 1.3524 / 1 Wrong (0)\n",
      "8000 8.0 0.3711 / 0 Correct\n",
      "9000 9.0 0.0770 / 1 Correct\n",
      "10000 10.0 0.4597 / 0 Correct\n",
      "11000 11.0 1.6147 / 0 Wrong (1)\n",
      "12000 12.0 0.8242 / 1 Wrong (0)\n",
      "13000 13.0 0.1171 / 1 Correct\n",
      "14000 14.000000000000002 0.0424 / 1 Correct\n",
      "15000 15.0 0.1968 / 0 Correct\n",
      "16000 16.0 0.1973 / 0 Correct\n",
      "17000 17.0 0.1235 / 0 Correct\n",
      "18000 18.0 0.0032 / 1 Correct\n",
      "19000 19.0 0.7469 / 1 Wrong (0)\n",
      "20000 20.0 0.1264 / 0 Correct\n",
      "21000 21.0 0.7792 / 1 Wrong (0)\n",
      "22000 22.0 1.1511 / 0 Wrong (1)\n",
      "23000 23.0 0.3873 / 1 Correct\n",
      "24000 24.0 0.0666 / 0 Correct\n",
      "25000 25.0 0.6597 / 0 Correct\n",
      "26000 26.0 0.5345 / 0 Correct\n",
      "27000 27.0 0.1336 / 1 Correct\n",
      "28000 28.000000000000004 0.5691 / 1 Correct\n",
      "29000 28.999999999999996 0.0574 / 0 Correct\n",
      "30000 30.0 0.4057 / 0 Correct\n",
      "31000 31.0 0.5359 / 1 Correct\n",
      "32000 32.0 0.2178 / 1 Correct\n",
      "33000 33.0 0.0957 / 0 Correct\n",
      "34000 34.0 0.3418 / 0 Correct\n",
      "35000 35.0 0.0906 / 1 Correct\n",
      "36000 36.0 0.0846 / 1 Correct\n",
      "37000 37.0 0.7235 / 0 Wrong (1)\n",
      "38000 38.0 0.2865 / 0 Correct\n",
      "39000 39.0 0.1025 / 0 Correct\n",
      "40000 40.0 0.0985 / 0 Correct\n",
      "41000 41.0 0.4158 / 1 Correct\n",
      "42000 42.0 0.3525 / 0 Correct\n",
      "43000 43.0 0.1355 / 0 Correct\n",
      "44000 44.0 0.4002 / 1 Correct\n",
      "45000 45.0 0.0212 / 0 Correct\n",
      "46000 46.0 0.1672 / 0 Correct\n",
      "47000 47.0 0.0405 / 0 Correct\n",
      "48000 48.0 1.1074 / 0 Wrong (1)\n",
      "49000 49.0 0.8470 / 1 Wrong (0)\n",
      "50000 50.0 0.0010 / 0 Correct\n",
      "51000 51.0 0.0043 / 0 Correct\n",
      "52000 52.0 0.5178 / 0 Correct\n",
      "53000 53.0 0.0555 / 0 Correct\n",
      "54000 54.0 0.0097 / 0 Correct\n",
      "55000 55.00000000000001 0.0405 / 0 Correct\n",
      "56000 56.00000000000001 0.0600 / 1 Correct\n",
      "57000 56.99999999999999 0.1259 / 1 Correct\n",
      "58000 57.99999999999999 0.1252 / 0 Correct\n",
      "59000 59.0 0.0851 / 0 Correct\n",
      "60000 60.0 0.0002 / 1 Correct\n",
      "61000 61.0 0.0694 / 0 Correct\n",
      "62000 62.0 0.1186 / 1 Correct\n",
      "63000 63.0 0.0007 / 0 Correct\n",
      "64000 64.0 0.1257 / 0 Correct\n",
      "65000 65.0 0.1582 / 1 Correct\n",
      "66000 66.0 0.1036 / 1 Correct\n",
      "67000 67.0 1.6808 / 0 Wrong (1)\n",
      "68000 68.0 0.3885 / 0 Correct\n",
      "69000 69.0 0.0012 / 0 Correct\n",
      "70000 70.0 0.5567 / 0 Correct\n",
      "71000 71.0 1.8633 / 0 Wrong (1)\n",
      "72000 72.0 0.0784 / 1 Correct\n",
      "73000 73.0 0.0260 / 0 Correct\n",
      "74000 74.0 0.3693 / 0 Correct\n",
      "75000 75.0 0.0175 / 1 Correct\n",
      "76000 76.0 0.2179 / 0 Correct\n",
      "77000 77.0 1.6541 / 0 Wrong (1)\n",
      "78000 78.0 0.1676 / 0 Correct\n",
      "79000 79.0 0.4279 / 0 Correct\n",
      "80000 80.0 0.0506 / 0 Correct\n",
      "81000 81.0 0.0405 / 0 Correct\n",
      "82000 82.0 0.3653 / 0 Correct\n",
      "83000 83.0 0.2015 / 0 Correct\n",
      "84000 84.0 0.0048 / 0 Correct\n",
      "85000 85.0 0.9114 / 0 Wrong (1)\n",
      "86000 86.0 0.3668 / 1 Correct\n",
      "87000 87.0 0.8770 / 1 Wrong (0)\n",
      "88000 88.0 0.6605 / 1 Correct\n",
      "89000 89.0 0.3613 / 1 Correct\n",
      "90000 90.0 0.0042 / 0 Correct\n",
      "91000 91.0 0.5045 / 0 Correct\n",
      "92000 92.0 0.0102 / 0 Correct\n",
      "93000 93.0 0.1878 / 1 Correct\n",
      "94000 94.0 0.0717 / 1 Correct\n",
      "95000 95.0 0.3089 / 1 Correct\n",
      "96000 96.0 0.1956 / 1 Correct\n",
      "97000 97.0 0.3155 / 0 Correct\n",
      "98000 98.0 0.1940 / 0 Correct\n",
      "99000 99.0 0.0700 / 0 Correct\n",
      "100000 100.0 0.2271 / 0 Correct\n"
     ]
    }
   ],
   "source": [
    "# we will keep feeding the RNN one row at a time \n",
    "input_size = 300\n",
    "n_hidden = 300\n",
    "hidden_dims = 170\n",
    "\n",
    "n_categories = 2\n",
    "num_epochs = 2\n",
    "learning_rate = 0.0005\n",
    "all_losses = []\n",
    "\n",
    "rnn = RNN(input_size, hidden_dims, n_hidden, n_categories)\n",
    "\n",
    "criterion = nn.NLLLoss()\n",
    "optimizer = torch.optim.SGD(rnn.parameters(), lr=learning_rate)\n",
    "\n",
    "n_iters = 100000\n",
    "current_loss = 0\n",
    "\n",
    "plot_steps, print_steps = 1000, 1000\n",
    "\n",
    "def category_from_output(output):\n",
    "    category_index = torch.argmax(output).item()\n",
    "    return category_index\n",
    "\n",
    "for i in range(n_iters):\n",
    "    hidden = rnn.init_hidden()\n",
    "    index = random.randint(0, len(X_train) - 1)\n",
    "    doc = X_train[index]\n",
    "    for word_tensor in doc:\n",
    "        output, hidden = rnn(word_tensor, hidden)\n",
    "    loss = criterion(output, Y_train[index])\n",
    "    optimizer.zero_grad()\n",
    "    loss.backward()\n",
    "    optimizer.step()\n",
    "    \n",
    "    current_loss += loss.item()\n",
    "    \n",
    "    if (i+1) % plot_steps == 0:\n",
    "        all_losses.append(current_loss/ plot_steps)\n",
    "        current_loss = 0\n",
    "        \n",
    "    if (i+1) % print_steps == 0:\n",
    "        guess = category_from_output(output)\n",
    "        correct = \"Correct\" if guess == Y_train[index].item() else f\"Wrong ({Y_train[index].item()})\"\n",
    "        print(f\"{i+1} {(i+1)/n_iters*100} {loss:.4f} / {guess} {correct}\")"
   ]
  },
  {
   "cell_type": "code",
   "execution_count": 399,
   "id": "e102b7de",
   "metadata": {},
   "outputs": [
    {
     "data": {
      "image/png": "[encoded data removed]",
      "text/plain": [
       "<Figure size 432x288 with 1 Axes>"
      ]
     },
     "metadata": {
      "needs_background": "light"
     },
     "output_type": "display_data"
    }
   ],
   "source": [
    "# print(all_losses)\n",
    "plt.figure()\n",
    "plt.plot(all_losses)\n",
    "plt.show()"
   ]
  },
  {
   "cell_type": "code",
   "execution_count": 400,
   "id": "65e60fbb",
   "metadata": {},
   "outputs": [
    {
     "name": "stdout",
     "output_type": "stream",
     "text": [
      "0.7841105354058722\n"
     ]
    }
   ],
   "source": [
    "correct = 0\n",
    "y_pred = []\n",
    "y_true = []\n",
    "for i , doc  in enumerate(X_test):\n",
    "    hidden = rnn.init_hidden()\n",
    "    for word_tensor in doc:\n",
    "        output, hidden = rnn(word_tensor, hidden)\n",
    "    guess  = category_from_output(output)\n",
    "    y_pred.append(guess)\n",
    "    y_true.append(Y_test[i].item())\n",
    "    if guess == Y_test[i].item():\n",
    "        correct += 1\n",
    "print(correct/ Y_test.shape[0])"
   ]
  },
  {
   "cell_type": "code",
   "execution_count": 401,
   "id": "8252c610",
   "metadata": {},
   "outputs": [
    {
     "name": "stdout",
     "output_type": "stream",
     "text": [
      "Precision:  0.7842485196425919\n",
      "Recall:  0.7840909994829575\n"
     ]
    }
   ],
   "source": [
    "from sklearn.metrics import precision_recall_fscore_support\n",
    "\n",
    "def calculate_precision_recall(y_true, y_pred):\n",
    "    precision, recall, f1_score, _ = precision_recall_fscore_support(y_true, y_pred, average='macro')\n",
    "    return precision, recall\n",
    "\n",
    "precision, recall = calculate_precision_recall(y_true, y_pred)\n",
    "print(\"Precision: \", precision)\n",
    "print(\"Recall: \", recall)"
   ]
  },
  {
   "cell_type": "code",
   "execution_count": null,
   "id": "cb23cd0a",
   "metadata": {},
   "outputs": [],
   "source": []
  }
 ],
 "metadata": {
  "kernelspec": {
   "display_name": "Python 3 (ipykernel)",
   "language": "python",
   "name": "python3"
  },
  "language_info": {
   "codemirror_mode": {
    "name": "ipython",
    "version": 3
   },
   "file_extension": ".py",
   "mimetype": "text/x-python",
   "name": "python",
   "nbconvert_exporter": "python",
   "pygments_lexer": "ipython3",
   "version": "3.9.12"
  }
 },
 "nbformat": 4,
 "nbformat_minor": 5
}
