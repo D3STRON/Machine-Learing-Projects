{
 "cells": [
  {
   "cell_type": "code",
   "execution_count": 59,
   "id": "e883c026",
   "metadata": {},
   "outputs": [],
   "source": [
    "import pandas as pd\n",
    "import numpy as np\n",
    "import tqdm\n",
    "\n",
    "import matplotlib.pyplot as plt\n",
    "from sklearn.model_selection import train_test_split\n",
    "import spacy\n",
    "from torch.utils.data import TensorDataset, DataLoader\n",
    "from sklearn.utils import resample\n",
    "from torch.nn.utils.rnn import pad_sequence\n",
    "\n",
    "import torch\n",
    "from torchtext import data\n",
    "from sklearn.metrics import f1_score\n",
    "import pandas as pd \n",
    "import re\n",
    "import random\n",
    "\n",
    "import torch.nn as nn\n",
    "import torch.nn.functional as F\n",
    "import torch.nn as nn\n",
    "from sklearn.preprocessing import StandardScaler\n",
    "import torch.optim as optim"
   ]
  },
  {
   "cell_type": "code",
   "execution_count": 60,
   "id": "0b6bff1a",
   "metadata": {},
   "outputs": [
    {
     "data": {
      "text/plain": [
       "device(type='cuda')"
      ]
     },
     "execution_count": 60,
     "metadata": {},
     "output_type": "execute_result"
    }
   ],
   "source": [
    "device = torch.device('cuda' if torch.cuda.is_available() else 'cpu')\n",
    "device"
   ]
  },
  {
   "cell_type": "code",
   "execution_count": 61,
   "id": "999f11c4",
   "metadata": {},
   "outputs": [
    {
     "data": {
      "text/html": [
       "<div>\n",
       "<style scoped>\n",
       "    .dataframe tbody tr th:only-of-type {\n",
       "        vertical-align: middle;\n",
       "    }\n",
       "\n",
       "    .dataframe tbody tr th {\n",
       "        vertical-align: top;\n",
       "    }\n",
       "\n",
       "    .dataframe thead th {\n",
       "        text-align: right;\n",
       "    }\n",
       "</style>\n",
       "<table border=\"1\" class=\"dataframe\">\n",
       "  <thead>\n",
       "    <tr style=\"text-align: right;\">\n",
       "      <th></th>\n",
       "      <th>id</th>\n",
       "      <th>keyword</th>\n",
       "      <th>location</th>\n",
       "      <th>text</th>\n",
       "      <th>target</th>\n",
       "    </tr>\n",
       "  </thead>\n",
       "  <tbody>\n",
       "    <tr>\n",
       "      <th>0</th>\n",
       "      <td>1</td>\n",
       "      <td>NaN</td>\n",
       "      <td>NaN</td>\n",
       "      <td>Our Deeds are the Reason of this #earthquake M...</td>\n",
       "      <td>1</td>\n",
       "    </tr>\n",
       "    <tr>\n",
       "      <th>1</th>\n",
       "      <td>4</td>\n",
       "      <td>NaN</td>\n",
       "      <td>NaN</td>\n",
       "      <td>Forest fire near La Ronge Sask. Canada</td>\n",
       "      <td>1</td>\n",
       "    </tr>\n",
       "    <tr>\n",
       "      <th>2</th>\n",
       "      <td>5</td>\n",
       "      <td>NaN</td>\n",
       "      <td>NaN</td>\n",
       "      <td>All residents asked to 'shelter in place' are ...</td>\n",
       "      <td>1</td>\n",
       "    </tr>\n",
       "    <tr>\n",
       "      <th>3</th>\n",
       "      <td>6</td>\n",
       "      <td>NaN</td>\n",
       "      <td>NaN</td>\n",
       "      <td>13,000 people receive #wildfires evacuation or...</td>\n",
       "      <td>1</td>\n",
       "    </tr>\n",
       "    <tr>\n",
       "      <th>4</th>\n",
       "      <td>7</td>\n",
       "      <td>NaN</td>\n",
       "      <td>NaN</td>\n",
       "      <td>Just got sent this photo from Ruby #Alaska as ...</td>\n",
       "      <td>1</td>\n",
       "    </tr>\n",
       "  </tbody>\n",
       "</table>\n",
       "</div>"
      ],
      "text/plain": [
       "   id keyword location                                               text  \\\n",
       "0   1     NaN      NaN  Our Deeds are the Reason of this #earthquake M...   \n",
       "1   4     NaN      NaN             Forest fire near La Ronge Sask. Canada   \n",
       "2   5     NaN      NaN  All residents asked to 'shelter in place' are ...   \n",
       "3   6     NaN      NaN  13,000 people receive #wildfires evacuation or...   \n",
       "4   7     NaN      NaN  Just got sent this photo from Ruby #Alaska as ...   \n",
       "\n",
       "   target  \n",
       "0       1  \n",
       "1       1  \n",
       "2       1  \n",
       "3       1  \n",
       "4       1  "
      ]
     },
     "execution_count": 61,
     "metadata": {},
     "output_type": "execute_result"
    }
   ],
   "source": [
    "raw_train_df = pd.read_csv(\"./data/train.csv\")\n",
    "raw_test_df = pd.read_csv(\"./data/test.csv\")\n",
    "raw_train_df.head()"
   ]
  },
  {
   "cell_type": "code",
   "execution_count": 62,
   "id": "254b316b",
   "metadata": {},
   "outputs": [],
   "source": [
    "del raw_train_df['keyword']\n",
    "del raw_train_df['location']\n",
    "del raw_train_df['id']"
   ]
  },
  {
   "cell_type": "code",
   "execution_count": 63,
   "id": "502b9498",
   "metadata": {},
   "outputs": [],
   "source": [
    "def text_cleaner(text):\n",
    "    text = text.lower() # convert to lowercase\n",
    "    text = re.sub(r'[^a-zA-Z0-9\\s]', '', text) # remove punctuation and special characters\n",
    "    text = re.sub(r'\\s+', ' ', text) # remove extra whitespace\n",
    "    text = re.sub(r'https?://\\S+', '', text) # remove URLs\n",
    "    text = re.sub(r\"#\", \"\", text)\n",
    "    return text"
   ]
  },
  {
   "cell_type": "code",
   "execution_count": 64,
   "id": "9408026c",
   "metadata": {},
   "outputs": [],
   "source": [
    "# Replaces the null values in the data with an empty string\n",
    "train_data = raw_train_df.where((pd.notnull(raw_train_df)),'')\n",
    "test_data = raw_test_df.where((pd.notnull(raw_test_df)),'')\n",
    "\n",
    "train_data['text'] = train_data['text'].apply(text_cleaner)\n",
    "test_data['text'] = test_data['text'].apply(text_cleaner)"
   ]
  },
  {
   "cell_type": "code",
   "execution_count": 65,
   "id": "880659de",
   "metadata": {},
   "outputs": [],
   "source": [
    "# X=train_data['text'].apply(gensim.utils.simple_preprocess)\n",
    "# Y = train_data['target']\n",
    "# model.wv[\"holding\"].shape\n",
    "\n",
    "df_majority = train_data[train_data['target'] == 0]\n",
    "df_minority = train_data[train_data['target'] == 1]\n",
    "\n",
    "# Upsample the minority class\n",
    "df_minority_upsampled = df_minority.sample(replace=True, n=len(df_majority), random_state=123)\n",
    "\n",
    "# Combine the majority class and the upsampled minority class\n",
    "df_upsampled = pd.concat([df_majority, df_minority_upsampled])\n",
    "\n",
    "# Shuffle the rows of the new dataframe\n",
    "train_data = df_upsampled.sample(frac=1).reset_index(drop=True)\n",
    "\n",
    "X, Y = train_data['text'], train_data['target']\n",
    "\n",
    "X_test= test_data['text']"
   ]
  },
  {
   "cell_type": "code",
   "execution_count": 73,
   "id": "326071dc",
   "metadata": {},
   "outputs": [],
   "source": [
    "def embed(docs):\n",
    "    nlp = spacy.load('en_core_web_md')\n",
    "    docs_tensor = []\n",
    "    pbar = tqdm.trange(docs.shape[0])\n",
    "    for t in pbar:\n",
    "        doc = nlp(docs[t])\n",
    "        sentence_embeddings = [token.vector for token in doc]\n",
    "        docs_tensor.append(sentence_embeddings)\n",
    "\n",
    "    docs_tensor = [torch.tensor(d) for d in docs_tensor]\n",
    "    docs_tensor = pad_sequence(docs_tensor, batch_first=True)\n",
    "\n",
    "    print(docs_tensor.shape)\n",
    "    return docs_tensor"
   ]
  },
  {
   "cell_type": "code",
   "execution_count": 74,
   "id": "71ec489d",
   "metadata": {},
   "outputs": [
    {
     "name": "stderr",
     "output_type": "stream",
     "text": [
      "100%|█████████████████████████████████████████████████████████████████████████████| 8684/8684 [00:54<00:00, 160.48it/s]\n"
     ]
    },
    {
     "name": "stdout",
     "output_type": "stream",
     "text": [
      "torch.Size([8684, 32, 300])\n"
     ]
    },
    {
     "name": "stderr",
     "output_type": "stream",
     "text": [
      "100%|█████████████████████████████████████████████████████████████████████████████| 3263/3263 [00:19<00:00, 163.69it/s]\n"
     ]
    },
    {
     "name": "stdout",
     "output_type": "stream",
     "text": [
      "torch.Size([3263, 33, 300])\n"
     ]
    }
   ],
   "source": [
    "X_tensor = embed(X)\n",
    "X_test_tensor = embed(X_test)"
   ]
  },
  {
   "cell_type": "code",
   "execution_count": 80,
   "id": "04af224b",
   "metadata": {},
   "outputs": [
    {
     "name": "stdout",
     "output_type": "stream",
     "text": [
      "torch.Size([7815, 32, 300]) torch.Size([869, 32, 300]) torch.Size([3263, 33, 300])\n"
     ]
    }
   ],
   "source": [
    "X_train, X_val, Y_train, Y_val = train_test_split(X_tensor, Y, test_size=0.1, random_state= 3)\n",
    "\n",
    "\n",
    "Y_train = torch.from_numpy(Y_train.values)\n",
    "Y_val = torch.from_numpy(Y_val.values)\n",
    "\n",
    "\n",
    "train_dataset = TensorDataset(X_train, Y_train)\n",
    "\n",
    "# Create a DataLoader for the dataset\n",
    "batch_size = 50\n",
    "train_dataloader = DataLoader(train_dataset, batch_size=batch_size, shuffle=True)\n",
    "\n",
    "\n",
    "val_dataset = TensorDataset(X_val, Y_val)\n",
    "\n",
    "val_dataloader = DataLoader(val_dataset, batch_size=batch_size, shuffle=True)\n",
    "\n",
    "\n",
    "test_dataset = TensorDataset(X_test_tensor)\n",
    "\n",
    "test_dataloader = DataLoader(test_dataset, batch_size=batch_size, shuffle=True)\n",
    "\n",
    "print(X_train.shape, X_val.shape, X_test_tensor.shape)"
   ]
  },
  {
   "cell_type": "code",
   "execution_count": 81,
   "id": "fde3224f",
   "metadata": {},
   "outputs": [],
   "source": [
    "class GRU(nn.Module):\n",
    "    def __init__(self, input_size, hidden_size, num_layers, num_classes):\n",
    "        super(GRU, self).__init__()\n",
    "        self.num_layers = num_layers\n",
    "        self.hidden_size = hidden_size\n",
    "#         self.rnn = nn.RNN(input_size, hidden_size,num_layers, batch_first = True)\n",
    "        self.gru = nn.GRU(input_size, hidden_size,num_layers, batch_first = True)\n",
    "#         self.lstm = nn.LSTM(input_size, hidden_size,num_layers, batch_first = True)\n",
    "        #  the input x has to be in this format x -> (batch_size, seq, input_size)\n",
    "        self.fc = nn.Linear(hidden_size, num_classes)\n",
    "        \n",
    "    def forward(self, x):\n",
    "        h_0 = torch.zeros(self.num_layers, x.size(0), self.hidden_size)\n",
    "#         c_0 = torch.zeros(self.num_layers, x.size(0), self.hidden_size)\n",
    "        # below output will be the out put of all the time steps but we need of only the latest\n",
    "#         out, _ = self.rnn(x, h_0)\n",
    "        out, _ = self.gru(x, h_0)\n",
    "#         out, _ = self.gru(x, (h_0,c_0))\n",
    "        # outputs is how dimensions batch_size, seq_length, hiden_size\n",
    "        # out (N, 28, 128)\n",
    "        out = out[:,-1,:]\n",
    "        # out (N, 128)\n",
    "        out = self.fc(out)\n",
    "        return out"
   ]
  },
  {
   "cell_type": "code",
   "execution_count": 97,
   "id": "2b0df376",
   "metadata": {},
   "outputs": [],
   "source": [
    "# we will keep feeding the RNN one row at a time \n",
    "input_size = 300\n",
    "n_hidden = 2\n",
    "hidden_dims = 128\n",
    "\n",
    "n_categories = 2\n",
    "num_epochs = 10\n",
    "learning_rate = 0.0005\n",
    "all_losses = []\n",
    "\n",
    "model = GRU(input_size, hidden_dims, n_hidden, n_categories)\n",
    "\n",
    "criterion = nn.CrossEntropyLoss()\n",
    "optimizer = torch.optim.AdamW(model.parameters(), lr=learning_rate)\n"
   ]
  },
  {
   "cell_type": "code",
   "execution_count": 98,
   "id": "bf3a1374",
   "metadata": {},
   "outputs": [
    {
     "name": "stdout",
     "output_type": "stream",
     "text": [
      "Training accuracy =50.6000\n",
      "epoch: 1, step 51, loss = 0.6895\n",
      "Training accuracy =58.7200\n",
      "epoch: 1, step 101, loss = 0.5393\n",
      "Training accuracy =65.2667\n",
      "epoch: 1, step 151, loss = 0.5000\n",
      "Training accuracy =82.4000\n",
      "epoch: 2, step 51, loss = 0.5588\n",
      "Training accuracy =83.0400\n",
      "epoch: 2, step 101, loss = 0.3700\n",
      "Training accuracy =83.3733\n",
      "epoch: 2, step 151, loss = 0.3838\n",
      "Training accuracy =88.9600\n",
      "epoch: 3, step 51, loss = 0.4050\n",
      "Training accuracy =88.2600\n",
      "epoch: 3, step 101, loss = 0.4128\n",
      "Training accuracy =88.5067\n",
      "epoch: 3, step 151, loss = 0.1418\n",
      "Training accuracy =92.3600\n",
      "epoch: 4, step 51, loss = 0.5016\n",
      "Training accuracy =91.3200\n",
      "epoch: 4, step 101, loss = 0.2261\n",
      "Training accuracy =91.6400\n",
      "epoch: 4, step 151, loss = 0.1219\n",
      "Training accuracy =93.4000\n",
      "epoch: 5, step 51, loss = 0.2040\n",
      "Training accuracy =94.0600\n",
      "epoch: 5, step 101, loss = 0.3924\n",
      "Training accuracy =93.7867\n",
      "epoch: 5, step 151, loss = 0.2286\n",
      "Training accuracy =95.2800\n",
      "epoch: 6, step 51, loss = 0.3043\n",
      "Training accuracy =95.2800\n",
      "epoch: 6, step 101, loss = 0.0658\n",
      "Training accuracy =95.2267\n",
      "epoch: 6, step 151, loss = 0.2346\n",
      "Training accuracy =96.4000\n",
      "epoch: 7, step 51, loss = 0.0629\n",
      "Training accuracy =96.2000\n",
      "epoch: 7, step 101, loss = 0.0841\n",
      "Training accuracy =95.9600\n",
      "epoch: 7, step 151, loss = 0.2407\n",
      "Training accuracy =96.9600\n",
      "epoch: 8, step 51, loss = 0.1671\n",
      "Training accuracy =96.5800\n",
      "epoch: 8, step 101, loss = 0.0582\n",
      "Training accuracy =96.5200\n",
      "epoch: 8, step 151, loss = 0.1227\n",
      "Training accuracy =96.8000\n",
      "epoch: 9, step 51, loss = 0.0884\n",
      "Training accuracy =96.7200\n",
      "epoch: 9, step 101, loss = 0.0887\n",
      "Training accuracy =96.5867\n",
      "epoch: 9, step 151, loss = 0.0643\n",
      "Training accuracy =97.6800\n",
      "epoch: 10, step 51, loss = 0.0156\n",
      "Training accuracy =97.4200\n",
      "epoch: 10, step 101, loss = 0.0063\n",
      "Training accuracy =97.1600\n",
      "epoch: 10, step 151, loss = 0.0975\n"
     ]
    }
   ],
   "source": [
    "def category_from_output(output):\n",
    "    category_index = torch.argmax(output).item()\n",
    "    return category_index\n",
    "\n",
    "for epoch in range(num_epochs):\n",
    "    iteration = 0\n",
    "    n_correct = 0\n",
    "    n_samples = 0\n",
    "    for batch_X, batch_Y in train_dataloader:\n",
    "        # Zero the gradients\n",
    "        optimizer.zero_grad()\n",
    "        # Forward pass\n",
    "        output = model(batch_X)\n",
    "        # Compute the loss\n",
    "        loss = criterion(output, batch_Y)\n",
    "        \n",
    "        _, predictions = torch.max(output, 1)\n",
    "        n_samples  += batch_Y.shape[0]\n",
    "        n_correct += (predictions == batch_Y).sum().item()\n",
    "        acc = 100 * n_correct / n_samples\n",
    "        \n",
    "\n",
    "        # Backward pass\n",
    "        loss.backward()\n",
    "        optimizer.step()\n",
    "        iteration += 1\n",
    "        if iteration%50==0:\n",
    "            print(f'Training accuracy ={acc:.4f}')\n",
    "            print(f'epoch: {epoch+1}, step {iteration+1}, loss = {loss.item():.4f}')"
   ]
  },
  {
   "cell_type": "code",
   "execution_count": 99,
   "id": "65e60fbb",
   "metadata": {},
   "outputs": [
    {
     "name": "stdout",
     "output_type": "stream",
     "text": [
      "accuracy =88.1473\n"
     ]
    }
   ],
   "source": [
    "with torch.no_grad():\n",
    "    n_correct = 0\n",
    "    n_samples = 0\n",
    "    for batch_X, batch_Y in val_dataloader:\n",
    "        # Zero the gradients\n",
    "        outputs = model(batch_X)\n",
    "        \n",
    "        _, predictions = torch.max(outputs, 1)\n",
    "        n_samples  += batch_Y.shape[0]\n",
    "        n_correct += (predictions == batch_Y).sum().item()\n",
    "    acc = 100* n_correct / n_samples\n",
    "    print(f'accuracy ={acc:.4f}')"
   ]
  },
  {
   "cell_type": "code",
   "execution_count": 116,
   "id": "90237554",
   "metadata": {},
   "outputs": [],
   "source": [
    "with torch.no_grad():\n",
    "    outputs = model(X_test_tensor)\n",
    "    _, predictions = torch.max(outputs, 1)\n",
    "submission = pd.DataFrame({'id': test_data['id'], 'target': predictions})\n",
    "submission.to_csv('submission.csv', index=False)"
   ]
  },
  {
   "cell_type": "code",
   "execution_count": 118,
   "id": "8e452020",
   "metadata": {},
   "outputs": [
    {
     "data": {
      "text/html": [
       "<div>\n",
       "<style scoped>\n",
       "    .dataframe tbody tr th:only-of-type {\n",
       "        vertical-align: middle;\n",
       "    }\n",
       "\n",
       "    .dataframe tbody tr th {\n",
       "        vertical-align: top;\n",
       "    }\n",
       "\n",
       "    .dataframe thead th {\n",
       "        text-align: right;\n",
       "    }\n",
       "</style>\n",
       "<table border=\"1\" class=\"dataframe\">\n",
       "  <thead>\n",
       "    <tr style=\"text-align: right;\">\n",
       "      <th></th>\n",
       "      <th>id</th>\n",
       "      <th>target</th>\n",
       "    </tr>\n",
       "  </thead>\n",
       "  <tbody>\n",
       "    <tr>\n",
       "      <th>0</th>\n",
       "      <td>0</td>\n",
       "      <td>1</td>\n",
       "    </tr>\n",
       "    <tr>\n",
       "      <th>1</th>\n",
       "      <td>2</td>\n",
       "      <td>1</td>\n",
       "    </tr>\n",
       "    <tr>\n",
       "      <th>2</th>\n",
       "      <td>3</td>\n",
       "      <td>1</td>\n",
       "    </tr>\n",
       "    <tr>\n",
       "      <th>3</th>\n",
       "      <td>9</td>\n",
       "      <td>1</td>\n",
       "    </tr>\n",
       "    <tr>\n",
       "      <th>4</th>\n",
       "      <td>11</td>\n",
       "      <td>1</td>\n",
       "    </tr>\n",
       "  </tbody>\n",
       "</table>\n",
       "</div>"
      ],
      "text/plain": [
       "   id  target\n",
       "0   0       1\n",
       "1   2       1\n",
       "2   3       1\n",
       "3   9       1\n",
       "4  11       1"
      ]
     },
     "execution_count": 118,
     "metadata": {},
     "output_type": "execute_result"
    }
   ],
   "source": [
    "submission.head()"
   ]
  },
  {
   "cell_type": "code",
   "execution_count": null,
   "id": "ca23b574",
   "metadata": {},
   "outputs": [],
   "source": []
  }
 ],
 "metadata": {
  "kernelspec": {
   "display_name": "Python 3 (ipykernel)",
   "language": "python",
   "name": "python3"
  },
  "language_info": {
   "codemirror_mode": {
    "name": "ipython",
    "version": 3
   },
   "file_extension": ".py",
   "mimetype": "text/x-python",
   "name": "python",
   "nbconvert_exporter": "python",
   "pygments_lexer": "ipython3",
   "version": "3.9.12"
  }
 },
 "nbformat": 4,
 "nbformat_minor": 5
}
