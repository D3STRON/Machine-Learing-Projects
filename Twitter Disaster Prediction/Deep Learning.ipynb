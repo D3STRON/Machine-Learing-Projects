{
 "cells": [
  {
   "cell_type": "code",
   "execution_count": 281,
   "id": "48a599ca",
   "metadata": {},
   "outputs": [],
   "source": [
    "import numpy as np\n",
    "import torch\n",
    "import torch.nn as nn\n",
    "import pandas as pd\n",
    "from sklearn.model_selection import train_test_split\n",
    "from sklearn.feature_extraction.text import TfidfVectorizer\n",
    "from sklearn.linear_model import LogisticRegression\n",
    "from sklearn.metrics import accuracy_score\n",
    "from sklearn.preprocessing import StandardScaler\n",
    "import re\n",
    "import matplotlib.pyplot as plt"
   ]
  },
  {
   "cell_type": "code",
   "execution_count": 282,
   "id": "27e5a174",
   "metadata": {},
   "outputs": [],
   "source": [
    "raw_train_df = pd.read_csv(\"./data/train.csv\")\n",
    "raw_test_df = pd.read_csv(\"./data/test.csv\")"
   ]
  },
  {
   "cell_type": "code",
   "execution_count": 283,
   "id": "626cf6d6",
   "metadata": {},
   "outputs": [],
   "source": [
    "def text_cleaner(text):\n",
    "    text = text.lower() # convert to lowercase\n",
    "    text = re.sub(r'[^a-zA-Z0-9\\s]', '', text) # remove punctuation and special characters\n",
    "    text = re.sub(r'\\s+', ' ', text) # remove extra whitespace\n",
    "    text = re.sub(r'https?://\\S+', '', text) # remove URLs\n",
    "    text = re.sub(r\"#\", \"\", text)\n",
    "    return text"
   ]
  },
  {
   "cell_type": "code",
   "execution_count": 284,
   "id": "b9cf4418",
   "metadata": {},
   "outputs": [],
   "source": [
    "del raw_train_df['keyword']\n",
    "del raw_train_df['location']"
   ]
  },
  {
   "cell_type": "code",
   "execution_count": 285,
   "id": "7bfa17c7",
   "metadata": {},
   "outputs": [],
   "source": [
    "# Replaces the null values in the data with an empty string\n",
    "train_data = raw_train_df.where((pd.notnull(raw_train_df)),'')\n",
    "test_data = raw_test_df.where((pd.notnull(raw_test_df)),'')\n",
    "\n",
    "train_data['text'] = train_data['text'].apply(text_cleaner)\n",
    "test_data['text'] = test_data['text'].apply(text_cleaner)"
   ]
  },
  {
   "cell_type": "code",
   "execution_count": 286,
   "id": "9afbe278",
   "metadata": {},
   "outputs": [],
   "source": [
    "X, Y = train_data['text'], train_data['target']"
   ]
  },
  {
   "cell_type": "code",
   "execution_count": 370,
   "id": "2a6500fe",
   "metadata": {},
   "outputs": [],
   "source": [
    "class NeuralNet(nn.Module):\n",
    "    def __init__(self, input_dims, hidden_dims_1, hidden_dims_2):\n",
    "        super(NeuralNet, self).__init__()\n",
    "        self.linear1 = nn.Linear(input_dims, hidden_dims_1)\n",
    "        self.linear2 = nn.Linear(hidden_dims_1, hidden_dims_2)\n",
    "        self.linear3 = nn.Linear(hidden_dims_2, 1)\n",
    "        \n",
    "    def forward(self, x):\n",
    "        x = F.relu(self.linear1(x))\n",
    "        x = F.relu(self.linear2(x))\n",
    "        x = torch.sigmoid(self.linear3(x))\n",
    "        return x"
   ]
  },
  {
   "cell_type": "code",
   "execution_count": 374,
   "id": "9d3c826a",
   "metadata": {},
   "outputs": [
    {
     "name": "stdout",
     "output_type": "stream",
     "text": [
      "(6090, 18780)\n"
     ]
    }
   ],
   "source": [
    "print(X_train_features.toarray().shape)\n",
    "\n",
    "sc = StandardScaler()\n",
    "X_train_fit = sc.fit_transform(X_train_features.toarray())\n",
    "X_test_fit = sc.transform(X_test_features.toarray())\n",
    "\n",
    "#scale\n",
    "X_train_tensor = torch.from_numpy(X_train_fit.astype(np.float32))\n",
    "X_test_tensor = torch.from_numpy(X_test_fit.astype(np.float32))\n",
    "Y_train_tensor = torch.from_numpy(Y_train.to_numpy().astype(np.float32))\n",
    "Y_test_tensor = torch.from_numpy(Y_test.to_numpy().astype(np.float32))\n",
    "\n",
    "# # converts the tensor from 1 row to n rows with one column each\n",
    "Y_train_tensor = Y_train_tensor.view(Y_train_tensor.shape[0],1)\n",
    "Y_test_tensor = Y_test_tensor.view(Y_test_tensor.shape[0],1)"
   ]
  },
  {
   "cell_type": "code",
   "execution_count": 411,
   "id": "eb8da992",
   "metadata": {},
   "outputs": [],
   "source": [
    "model = NeuralNet(X_train_features.shape[1],1000,10)\n",
    "learning_rate = 0.001\n",
    "criterion = nn.BCELoss()\n",
    "optimizer = torch.optim.Adam(model.parameters(), lr = learning_rate)"
   ]
  },
  {
   "cell_type": "code",
   "execution_count": 412,
   "id": "f45f589c",
   "metadata": {},
   "outputs": [
    {
     "name": "stdout",
     "output_type": "stream",
     "text": [
      "epoch: 1, loss = 0.6980, learning rate = 0.001000\n",
      "epoch: 2, loss = 0.5416, learning rate = 0.001000\n",
      "epoch: 3, loss = 0.3946, learning rate = 0.001000\n",
      "epoch: 4, loss = 0.2825, learning rate = 0.001000\n",
      "epoch: 5, loss = 0.1982, learning rate = 0.001000\n",
      "epoch: 6, loss = 0.1372, learning rate = 0.001000\n",
      "epoch: 7, loss = 0.0946, learning rate = 0.001000\n",
      "epoch: 8, loss = 0.0657, learning rate = 0.001000\n",
      "epoch: 9, loss = 0.0464, learning rate = 0.001000\n",
      "epoch: 10, loss = 0.0335, learning rate = 0.001000\n"
     ]
    }
   ],
   "source": [
    "n_epochs = 10\n",
    "all_losses = []\n",
    "for epoch in range(n_epochs):\n",
    "    Y_pred = model(X_train_tensor)\n",
    "    \n",
    "    loss = criterion(Y_pred, Y_train_tensor)\n",
    "    all_losses.append(loss.item())\n",
    "    loss.backward()\n",
    "    optimizer.step()\n",
    "    optimizer.zero_grad()\n",
    "    print(f'epoch: {epoch+1}, loss = {loss.item():.4f}, learning rate = {learning_rate:2f}')"
   ]
  },
  {
   "cell_type": "code",
   "execution_count": 413,
   "id": "50fd9730",
   "metadata": {},
   "outputs": [
    {
     "data": {
      "image/png": "[encoded data removed]",
      "text/plain": [
       "<Figure size 432x288 with 1 Axes>"
      ]
     },
     "metadata": {
      "needs_background": "light"
     },
     "output_type": "display_data"
    }
   ],
   "source": [
    "plt.figure()\n",
    "plt.title(\"Loss over epochs\")\n",
    "plt.xlabel('Epochs')\n",
    "plt.ylabel('Loss')\n",
    "plt.plot(all_losses)\n",
    "plt.show()"
   ]
  },
  {
   "cell_type": "code",
   "execution_count": 414,
   "id": "704bb378",
   "metadata": {},
   "outputs": [
    {
     "name": "stdout",
     "output_type": "stream",
     "text": [
      "accuracy= 0.7485\n"
     ]
    }
   ],
   "source": [
    "with torch.no_grad():\n",
    "    Y_pred = model(X_test_tensor)\n",
    "    Y_pred_cls = Y_pred.round()\n",
    "    acc = Y_pred_cls.eq(Y_test_tensor).sum() / float(Y_test_tensor.shape[0])\n",
    "    print(f'accuracy= {acc:.4f}')"
   ]
  },
  {
   "cell_type": "code",
   "execution_count": null,
   "id": "d2191495",
   "metadata": {},
   "outputs": [],
   "source": []
  }
 ],
 "metadata": {
  "kernelspec": {
   "display_name": "Python 3 (ipykernel)",
   "language": "python",
   "name": "python3"
  },
  "language_info": {
   "codemirror_mode": {
    "name": "ipython",
    "version": 3
   },
   "file_extension": ".py",
   "mimetype": "text/x-python",
   "name": "python",
   "nbconvert_exporter": "python",
   "pygments_lexer": "ipython3",
   "version": "3.9.12"
  }
 },
 "nbformat": 4,
 "nbformat_minor": 5
}
