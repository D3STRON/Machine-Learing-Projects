{
 "cells": [
  {
   "cell_type": "code",
   "execution_count": 208,
   "id": "48a599ca",
   "metadata": {},
   "outputs": [],
   "source": [
    "import numpy as np\n",
    "import torch\n",
    "import torch.nn as nn\n",
    "import pandas as pd\n",
    "from sklearn.model_selection import train_test_split\n",
    "from sklearn.feature_extraction.text import TfidfVectorizer\n",
    "from sklearn.linear_model import LogisticRegression\n",
    "from sklearn.metrics import accuracy_score\n",
    "from sklearn.preprocessing import StandardScaler\n",
    "import re\n",
    "import matplotlib.pyplot as plt"
   ]
  },
  {
   "cell_type": "code",
   "execution_count": 209,
   "id": "27e5a174",
   "metadata": {},
   "outputs": [],
   "source": [
    "raw_train_df = pd.read_csv(\"./data/train.csv\")\n",
    "raw_test_df = pd.read_csv(\"./data/test.csv\")"
   ]
  },
  {
   "cell_type": "code",
   "execution_count": 210,
   "id": "f30f99d2",
   "metadata": {},
   "outputs": [],
   "source": [
    "def text_cleaner(text):\n",
    "    text = text.lower() # convert to lowercase\n",
    "    text = re.sub(r'[^a-zA-Z0-9\\s]', '', text) # remove punctuation and special characters\n",
    "    text = re.sub(r'\\s+', ' ', text) # remove extra whitespace\n",
    "    text = re.sub(r'https?://\\S+', '', text) # remove URLs\n",
    "    text = re.sub(r\"#\", \"\", text)\n",
    "    return text"
   ]
  },
  {
   "cell_type": "code",
   "execution_count": 211,
   "id": "b9cf4418",
   "metadata": {},
   "outputs": [],
   "source": [
    "del raw_train_df['keyword']\n",
    "del raw_train_df['location']"
   ]
  },
  {
   "cell_type": "code",
   "execution_count": 212,
   "id": "deb0d5ea",
   "metadata": {},
   "outputs": [],
   "source": [
    "# Replaces the null values in the data with an empty string\n",
    "train_data = raw_train_df.where((pd.notnull(raw_train_df)),'')\n",
    "test_data = raw_test_df.where((pd.notnull(raw_test_df)),'')\n",
    "\n",
    "train_data['text'] = train_data['text'].apply(text_cleaner)\n",
    "test_data['text'] = test_data['text'].apply(text_cleaner)"
   ]
  },
  {
   "cell_type": "code",
   "execution_count": 213,
   "id": "502e8ab4",
   "metadata": {},
   "outputs": [],
   "source": [
    "X, Y = train_data['text'], train_data['target']"
   ]
  },
  {
   "cell_type": "code",
   "execution_count": 214,
   "id": "cfc7a1c9",
   "metadata": {},
   "outputs": [
    {
     "name": "stdout",
     "output_type": "stream",
     "text": [
      "(6090,) (1523,)\n"
     ]
    }
   ],
   "source": [
    "X_train, X_test, Y_train, Y_test = train_test_split(X, Y, test_size=0.2, random_state= 3)\n",
    "\n",
    "print(X_train.shape, X_test.shape)"
   ]
  },
  {
   "cell_type": "code",
   "execution_count": 215,
   "id": "82c6a7df",
   "metadata": {},
   "outputs": [],
   "source": [
    "feature_extraction = TfidfVectorizer(min_df = 1, stop_words='english', lowercase='True')\n",
    "\n",
    "# Below we fit the vectorizer to the training data \n",
    "X_train_features = feature_extraction.fit_transform(X_train)\n",
    "# not need to fit this time only transform based on the previous fit\n",
    "X_test_features = feature_extraction.transform(X_test)\n",
    "\n",
    "# convert all values of Y_train and Y_test to integers \n",
    "Y_train = Y_train.astype(\"int\")\n",
    "Y_test = Y_test.astype(\"int\")"
   ]
  },
  {
   "cell_type": "code",
   "execution_count": 239,
   "id": "bd3ffdc8",
   "metadata": {},
   "outputs": [],
   "source": [
    "model = LogisticRegression()\n",
    "# training the logistic regression model with the training data \n",
    "model.fit(X_train_features, Y_train)\n",
    "\n",
    "prediction_on_train_data = model.predict(X_train_features)\n",
    "accuracy_on_train_data = accuracy_score(Y_train, prediction_on_train_data)\n",
    "\n",
    "print(\"Training accuracy:\", accuracy_on_train_data)\n",
    "\n",
    "prediction_on_test_data = model.predict(X_test_features)\n",
    "accuracy_on_test_data = accuracy_score(Y_test, prediction_on_test_data)\n",
    "\n",
    "print(\"Testing Accuracy:\", accuracy_on_test_data)\n",
    "\n",
    "input_mail = [\"For Legal and Medical Referral Service @1800_Injured Call us at: 1-800-465-87332 #accident #slipandfall #dogbite\"]\n",
    "input_feature_mail = feature_extraction.transform(input_mail)\n",
    "print(model.predict(input_feature_mail))"
   ]
  },
  {
   "cell_type": "code",
   "execution_count": 234,
   "id": "14cbd7d6",
   "metadata": {},
   "outputs": [],
   "source": [
    "class NeuralNet(nn.Module):\n",
    "    def __init__(self, input_dims, hidden_dims_1):\n",
    "        super(NeuralNet, self).__init__()\n",
    "        self.fc1 = nn.Linear(input_dims, hidden_dims_1)\n",
    "        self.fc2 = nn.Linear(hidden_dims_1, 1)\n",
    "        self.relu = nn.ReLU()\n",
    "        \n",
    "    def forward(self, X):\n",
    "        out = self.fc1(X)\n",
    "        out = self.relu(out)\n",
    "#         out = self.fc2(out)\n",
    "#         out = self.relu(out)\n",
    "        Y_pred = torch.sigmoid(self.fc2(out))\n",
    "        return Y_pred"
   ]
  },
  {
   "cell_type": "code",
   "execution_count": 235,
   "id": "4fe1c4f0",
   "metadata": {},
   "outputs": [
    {
     "name": "stdout",
     "output_type": "stream",
     "text": [
      "(6090, 18780)\n"
     ]
    }
   ],
   "source": [
    "print(X_train_features.toarray().shape)\n",
    "\n",
    "sc = StandardScaler()\n",
    "X_train_fit = sc.fit_transform(X_train_features.toarray())\n",
    "X_test_fit = sc.transform(X_test_features.toarray())\n",
    "\n",
    "#scale\n",
    "X_train_tensor = torch.from_numpy(X_train_fit.astype(np.float32))\n",
    "X_test_tensor = torch.from_numpy(X_test_fit.astype(np.float32))\n",
    "Y_train_tensor = torch.from_numpy(Y_train.to_numpy().astype(np.float32))\n",
    "Y_test_tensor = torch.from_numpy(Y_test.to_numpy().astype(np.float32))\n",
    "\n",
    "# # converts the tensor from 1 row to n rows with one column each\n",
    "Y_train_tensor = Y_train_tensor.view(Y_train_tensor.shape[0],1)\n",
    "Y_test_tensor = Y_test_tensor.view(Y_test_tensor.shape[0],1)"
   ]
  },
  {
   "cell_type": "code",
   "execution_count": 236,
   "id": "9243f77d",
   "metadata": {},
   "outputs": [],
   "source": [
    "model = NeuralNet(X_train_fit.shape[1],256)\n",
    "learning_rate = 0.01\n",
    "criterion = nn.BCELoss()\n",
    "optimizer = torch.optim.SGD(model.parameters(), lr = learning_rate)"
   ]
  },
  {
   "cell_type": "code",
   "execution_count": 237,
   "id": "402cd06a",
   "metadata": {},
   "outputs": [
    {
     "name": "stdout",
     "output_type": "stream",
     "text": [
      "epoch: 1, loss = 0.7066, learning rate = 0.010000\n",
      "epoch: 11, loss = 0.6799, learning rate = 0.010000\n",
      "epoch: 21, loss = 0.6591, learning rate = 0.010000\n",
      "epoch: 31, loss = 0.6411, learning rate = 0.010000\n",
      "epoch: 41, loss = 0.6244, learning rate = 0.010000\n",
      "epoch: 51, loss = 0.6080, learning rate = 0.010000\n",
      "epoch: 61, loss = 0.5918, learning rate = 0.010000\n",
      "epoch: 71, loss = 0.5753, learning rate = 0.010000\n",
      "epoch: 81, loss = 0.5585, learning rate = 0.010000\n",
      "epoch: 91, loss = 0.5413, learning rate = 0.010000\n",
      "epoch: 101, loss = 0.5238, learning rate = 0.010000\n",
      "epoch: 111, loss = 0.5060, learning rate = 0.010000\n",
      "epoch: 121, loss = 0.4878, learning rate = 0.010000\n",
      "epoch: 131, loss = 0.4695, learning rate = 0.010000\n",
      "epoch: 141, loss = 0.4510, learning rate = 0.010000\n",
      "epoch: 151, loss = 0.4326, learning rate = 0.010000\n",
      "epoch: 161, loss = 0.4142, learning rate = 0.010000\n",
      "epoch: 171, loss = 0.3961, learning rate = 0.010000\n",
      "epoch: 181, loss = 0.3782, learning rate = 0.010000\n",
      "epoch: 191, loss = 0.3608, learning rate = 0.010000\n",
      "epoch: 201, loss = 0.3439, learning rate = 0.010000\n",
      "epoch: 211, loss = 0.3275, learning rate = 0.010000\n",
      "epoch: 221, loss = 0.3117, learning rate = 0.010000\n",
      "epoch: 231, loss = 0.2966, learning rate = 0.010000\n",
      "epoch: 241, loss = 0.2822, learning rate = 0.010000\n",
      "epoch: 251, loss = 0.2685, learning rate = 0.010000\n",
      "epoch: 261, loss = 0.2554, learning rate = 0.010000\n",
      "epoch: 271, loss = 0.2431, learning rate = 0.010000\n",
      "epoch: 281, loss = 0.2314, learning rate = 0.010000\n",
      "epoch: 291, loss = 0.2204, learning rate = 0.010000\n",
      "epoch: 301, loss = 0.2100, learning rate = 0.010000\n",
      "epoch: 311, loss = 0.2003, learning rate = 0.010000\n",
      "epoch: 321, loss = 0.1911, learning rate = 0.010000\n",
      "epoch: 331, loss = 0.1825, learning rate = 0.010000\n",
      "epoch: 341, loss = 0.1743, learning rate = 0.010000\n",
      "epoch: 351, loss = 0.1667, learning rate = 0.010000\n",
      "epoch: 361, loss = 0.1595, learning rate = 0.010000\n",
      "epoch: 371, loss = 0.1528, learning rate = 0.010000\n",
      "epoch: 381, loss = 0.1465, learning rate = 0.010000\n",
      "epoch: 391, loss = 0.1405, learning rate = 0.010000\n",
      "epoch: 401, loss = 0.1349, learning rate = 0.010000\n",
      "epoch: 411, loss = 0.1296, learning rate = 0.010000\n",
      "epoch: 421, loss = 0.1246, learning rate = 0.010000\n",
      "epoch: 431, loss = 0.1199, learning rate = 0.010000\n",
      "epoch: 441, loss = 0.1155, learning rate = 0.010000\n",
      "epoch: 451, loss = 0.1113, learning rate = 0.010000\n",
      "epoch: 461, loss = 0.1074, learning rate = 0.010000\n",
      "epoch: 471, loss = 0.1037, learning rate = 0.010000\n",
      "epoch: 481, loss = 0.1001, learning rate = 0.010000\n",
      "epoch: 491, loss = 0.0968, learning rate = 0.010000\n",
      "epoch: 501, loss = 0.0936, learning rate = 0.010000\n",
      "epoch: 511, loss = 0.0906, learning rate = 0.010000\n",
      "epoch: 521, loss = 0.0878, learning rate = 0.010000\n",
      "epoch: 531, loss = 0.0851, learning rate = 0.010000\n",
      "epoch: 541, loss = 0.0825, learning rate = 0.010000\n",
      "epoch: 551, loss = 0.0801, learning rate = 0.010000\n",
      "epoch: 561, loss = 0.0778, learning rate = 0.010000\n",
      "epoch: 571, loss = 0.0755, learning rate = 0.010000\n",
      "epoch: 581, loss = 0.0734, learning rate = 0.010000\n",
      "epoch: 591, loss = 0.0714, learning rate = 0.010000\n"
     ]
    },
    {
     "data": {
      "image/png": "[encoded data removed]",
      "text/plain": [
       "<Figure size 432x288 with 1 Axes>"
      ]
     },
     "metadata": {
      "needs_background": "light"
     },
     "output_type": "display_data"
    }
   ],
   "source": [
    "n_epochs = 600\n",
    "all_losses = []\n",
    "for epoch in range(n_epochs):\n",
    "    Y_pred = model(X_train_tensor)\n",
    "    \n",
    "    loss = criterion(Y_pred, Y_train_tensor)\n",
    "    all_losses.append(loss.item())\n",
    "    loss.backward()\n",
    "    optimizer.step()\n",
    "    optimizer.zero_grad()\n",
    "    if epoch % 10 == 0:\n",
    "        print(f'epoch: {epoch+1}, loss = {loss.item():.4f}, learning rate = {learning_rate:2f}')\n",
    "plt.figure()\n",
    "plt.plot(all_losses)\n",
    "plt.show()"
   ]
  },
  {
   "cell_type": "code",
   "execution_count": 238,
   "id": "e82cc1a2",
   "metadata": {},
   "outputs": [
    {
     "name": "stdout",
     "output_type": "stream",
     "text": [
      "accuracy= 0.7820\n"
     ]
    }
   ],
   "source": [
    "with torch.no_grad():\n",
    "    Y_pred = model(X_test_tensor)\n",
    "    Y_pred_cls = Y_pred.round()\n",
    "    acc = Y_pred_cls.eq(Y_test_tensor).sum() / float(Y_test_tensor.shape[0])\n",
    "    print(f'accuracy= {acc:.4f}')"
   ]
  },
  {
   "cell_type": "code",
   "execution_count": null,
   "id": "b8d082bf",
   "metadata": {},
   "outputs": [],
   "source": []
  }
 ],
 "metadata": {
  "kernelspec": {
   "display_name": "Python 3 (ipykernel)",
   "language": "python",
   "name": "python3"
  },
  "language_info": {
   "codemirror_mode": {
    "name": "ipython",
    "version": 3
   },
   "file_extension": ".py",
   "mimetype": "text/x-python",
   "name": "python",
   "nbconvert_exporter": "python",
   "pygments_lexer": "ipython3",
   "version": "3.9.12"
  }
 },
 "nbformat": 4,
 "nbformat_minor": 5
}
