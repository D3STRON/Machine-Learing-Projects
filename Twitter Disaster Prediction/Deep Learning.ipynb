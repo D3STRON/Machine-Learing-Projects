{
 "cells": [
  {
   "cell_type": "code",
   "execution_count": 92,
   "id": "48a599ca",
   "metadata": {},
   "outputs": [],
   "source": [
    "import numpy as np\n",
    "import torch\n",
    "import torch.nn as nn\n",
    "import pandas as pd\n",
    "from sklearn.model_selection import train_test_split\n",
    "from sklearn.feature_extraction.text import TfidfVectorizer\n",
    "from sklearn.metrics import accuracy_score\n",
    "import torch.nn.functional as F\n",
    "from sklearn.preprocessing import StandardScaler\n",
    "import matplotlib.pyplot as plt"
   ]
  },
  {
   "cell_type": "code",
   "execution_count": 93,
   "id": "27e5a174",
   "metadata": {},
   "outputs": [],
   "source": [
    "raw_train_df = pd.read_csv(\"./data/train.csv\")\n",
    "raw_test_df = pd.read_csv(\"./data/test.csv\")"
   ]
  },
  {
   "cell_type": "code",
   "execution_count": 94,
   "id": "626cf6d6",
   "metadata": {},
   "outputs": [],
   "source": [
    "def text_cleaner(text):\n",
    "    text = text.str.lower() # lowercase\n",
    "    text = text.str.replace(r\"\\#\",\"\") # replaces hashtags\n",
    "    text = text.str.replace(r\"http\\S+\",\"URL\")  # remove URL addresses\n",
    "    text = text.str.replace(r\"@\",\"\")\n",
    "    text = text.str.replace(r\"[^A-Za-z0-9()!?\\'\\`\\\"]\", \" \")\n",
    "    text = text.str.replace(\"\\s{2,}\", \" \")\n",
    "    return text"
   ]
  },
  {
   "cell_type": "code",
   "execution_count": 95,
   "id": "b9cf4418",
   "metadata": {},
   "outputs": [],
   "source": [
    "del raw_train_df['keyword']\n",
    "del raw_train_df['location']"
   ]
  },
  {
   "cell_type": "code",
   "execution_count": 96,
   "id": "7bfa17c7",
   "metadata": {},
   "outputs": [
    {
     "name": "stderr",
     "output_type": "stream",
     "text": [
      "C:\\Users\\GHOSH\\AppData\\Local\\Temp\\ipykernel_24256\\3041639151.py:3: FutureWarning: The default value of regex will change from True to False in a future version.\n",
      "  text = text.str.replace(r\"\\#\",\"\") # replaces hashtags\n",
      "C:\\Users\\GHOSH\\AppData\\Local\\Temp\\ipykernel_24256\\3041639151.py:4: FutureWarning: The default value of regex will change from True to False in a future version.\n",
      "  text = text.str.replace(r\"http\\S+\",\"URL\")  # remove URL addresses\n",
      "C:\\Users\\GHOSH\\AppData\\Local\\Temp\\ipykernel_24256\\3041639151.py:6: FutureWarning: The default value of regex will change from True to False in a future version.\n",
      "  text = text.str.replace(r\"[^A-Za-z0-9()!?\\'\\`\\\"]\", \" \")\n",
      "C:\\Users\\GHOSH\\AppData\\Local\\Temp\\ipykernel_24256\\3041639151.py:7: FutureWarning: The default value of regex will change from True to False in a future version.\n",
      "  text = text.str.replace(\"\\s{2,}\", \" \")\n"
     ]
    }
   ],
   "source": [
    "# Replaces the null values in the data with an empty string\n",
    "train_data = raw_train_df.where((pd.notnull(raw_train_df)),'')\n",
    "test_data = raw_test_df.where((pd.notnull(raw_test_df)),'')\n",
    "\n",
    "train_data['text'] = text_cleaner(train_data['text'])\n",
    "test_data['text'] = text_cleaner(test_data['text'])"
   ]
  },
  {
   "cell_type": "code",
   "execution_count": 97,
   "id": "9afbe278",
   "metadata": {},
   "outputs": [],
   "source": [
    "X, Y = train_data['text'], train_data['target']"
   ]
  },
  {
   "cell_type": "code",
   "execution_count": 98,
   "id": "7b99aaea",
   "metadata": {},
   "outputs": [
    {
     "name": "stdout",
     "output_type": "stream",
     "text": [
      "(6090,) (1523,)\n"
     ]
    }
   ],
   "source": [
    "X_train, X_test, Y_train, Y_test = train_test_split(X, Y, test_size=0.2, random_state= 3)\n",
    "\n",
    "print(X_train.shape, X_test.shape)"
   ]
  },
  {
   "cell_type": "code",
   "execution_count": 99,
   "id": "d7c29d39",
   "metadata": {},
   "outputs": [],
   "source": [
    "feature_extraction = TfidfVectorizer(min_df = 0.0003, stop_words='english', lowercase='True')\n",
    "\n",
    "# Below we fit the vectorizer to the training data \n",
    "X_train_features = feature_extraction.fit_transform(X_train)\n",
    "# not need to fit this time only transform based on the previous fit\n",
    "X_test_features = feature_extraction.transform(X_test)\n",
    "\n",
    "# convert all values of Y_train and Y_test to integers \n",
    "Y_train = Y_train.astype(\"int\")\n",
    "Y_test = Y_test.astype(\"int\")"
   ]
  },
  {
   "cell_type": "code",
   "execution_count": 106,
   "id": "2a6500fe",
   "metadata": {},
   "outputs": [],
   "source": [
    "class NeuralNet(nn.Module):\n",
    "    def __init__(self, input_dims, hidden_dims_1, hidden_dims_2):\n",
    "        super(NeuralNet, self).__init__()\n",
    "        self.linear1 = nn.Linear(input_dims, hidden_dims_1)\n",
    "        self.linear2 = nn.Linear(hidden_dims_1, hidden_dims_2)\n",
    "        self.linear3 = nn.Linear(hidden_dims_2, 1)\n",
    "        \n",
    "    def forward(self, x):\n",
    "        x = F.relu(self.linear1(x))\n",
    "        x = F.relu(self.linear2(x))\n",
    "        x = torch.sigmoid(self.linear3(x))\n",
    "        return x"
   ]
  },
  {
   "cell_type": "code",
   "execution_count": 113,
   "id": "9d3c826a",
   "metadata": {},
   "outputs": [
    {
     "name": "stdout",
     "output_type": "stream",
     "text": [
      "(6090, 5416)\n"
     ]
    }
   ],
   "source": [
    "print(X_train_features.toarray().shape)\n",
    "\n",
    "sc = StandardScaler()\n",
    "X_train_fit = sc.fit_transform(X_train_features.toarray())\n",
    "X_test_fit = sc.transform(X_test_features.toarray())\n",
    "\n",
    "#scale\n",
    "X_train_tensor = torch.from_numpy(X_train_fit.astype(np.float32))\n",
    "X_test_tensor = torch.from_numpy(X_test_fit.astype(np.float32))\n",
    "Y_train_tensor = torch.from_numpy(Y_train.to_numpy().astype(np.float32))\n",
    "Y_test_tensor = torch.from_numpy(Y_test.to_numpy().astype(np.float32))\n",
    "\n",
    "# # converts the tensor from 1 row to n rows with one column each\n",
    "Y_train_tensor = Y_train_tensor.view(Y_train_tensor.shape[0],1)\n",
    "Y_test_tensor = Y_test_tensor.view(Y_test_tensor.shape[0],1)"
   ]
  },
  {
   "cell_type": "code",
   "execution_count": 114,
   "id": "eb8da992",
   "metadata": {},
   "outputs": [],
   "source": [
    "model = NeuralNet(X_train_features.shape[1],256,128)\n",
    "learning_rate = 0.001\n",
    "criterion = nn.BCELoss()\n",
    "optimizer = torch.optim.Adam(model.parameters(), lr = learning_rate)"
   ]
  },
  {
   "cell_type": "code",
   "execution_count": 115,
   "id": "f45f589c",
   "metadata": {},
   "outputs": [
    {
     "name": "stdout",
     "output_type": "stream",
     "text": [
      "epoch: 1, loss = 0.6891, learning rate = 0.001000\n",
      "epoch: 2, loss = 0.6194, learning rate = 0.001000\n",
      "epoch: 3, loss = 0.5528, learning rate = 0.001000\n",
      "epoch: 4, loss = 0.4822, learning rate = 0.001000\n",
      "epoch: 5, loss = 0.4121, learning rate = 0.001000\n",
      "epoch: 6, loss = 0.3457, learning rate = 0.001000\n",
      "epoch: 7, loss = 0.2854, learning rate = 0.001000\n",
      "epoch: 8, loss = 0.2330, learning rate = 0.001000\n",
      "epoch: 9, loss = 0.1894, learning rate = 0.001000\n",
      "epoch: 10, loss = 0.1543, learning rate = 0.001000\n",
      "epoch: 11, loss = 0.1267, learning rate = 0.001000\n",
      "epoch: 12, loss = 0.1053, learning rate = 0.001000\n"
     ]
    }
   ],
   "source": [
    "n_epochs = 5000\n",
    "all_losses = []\n",
    "for epoch in range(n_epochs):\n",
    "    Y_pred = model(X_train_tensor)\n",
    "    \n",
    "    loss = criterion(Y_pred, Y_train_tensor)\n",
    "    all_losses.append(loss.item())\n",
    "    loss.backward()\n",
    "    optimizer.step()\n",
    "    optimizer.zero_grad()\n",
    "    print(f'epoch: {epoch+1}, loss = {loss.item():.4f}, learning rate = {learning_rate:2f}')\n",
    "    if loss < 0.12:\n",
    "        break"
   ]
  },
  {
   "cell_type": "code",
   "execution_count": 116,
   "id": "50fd9730",
   "metadata": {
    "scrolled": true
   },
   "outputs": [
    {
     "data": {
      "image/png": "[encoded data removed]",
      "text/plain": [
       "<Figure size 432x288 with 1 Axes>"
      ]
     },
     "metadata": {
      "needs_background": "light"
     },
     "output_type": "display_data"
    }
   ],
   "source": [
    "plt.figure()\n",
    "plt.title(\"Loss over epochs\")\n",
    "plt.xlabel('Epochs')\n",
    "plt.ylabel('Loss')\n",
    "plt.plot(all_losses)\n",
    "plt.show()"
   ]
  },
  {
   "cell_type": "code",
   "execution_count": 117,
   "id": "704bb378",
   "metadata": {},
   "outputs": [
    {
     "name": "stdout",
     "output_type": "stream",
     "text": [
      "accuracy= 0.7735\n"
     ]
    }
   ],
   "source": [
    "with torch.no_grad():\n",
    "    Y_pred = model(X_test_tensor)\n",
    "    Y_pred_cls = Y_pred.round()\n",
    "    acc = Y_pred_cls.eq(Y_test_tensor).sum() / float(Y_test_tensor.shape[0])\n",
    "    print(f'accuracy= {acc:.4f}')"
   ]
  },
  {
   "cell_type": "code",
   "execution_count": null,
   "id": "d2191495",
   "metadata": {},
   "outputs": [],
   "source": []
  }
 ],
 "metadata": {
  "kernelspec": {
   "display_name": "Python 3 (ipykernel)",
   "language": "python",
   "name": "python3"
  },
  "language_info": {
   "codemirror_mode": {
    "name": "ipython",
    "version": 3
   },
   "file_extension": ".py",
   "mimetype": "text/x-python",
   "name": "python",
   "nbconvert_exporter": "python",
   "pygments_lexer": "ipython3",
   "version": "3.9.12"
  }
 },
 "nbformat": 4,
 "nbformat_minor": 5
}
