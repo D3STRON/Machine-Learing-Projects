{
 "cells": [
  {
   "cell_type": "code",
   "execution_count": 53,
   "id": "9c51ba82",
   "metadata": {},
   "outputs": [],
   "source": [
    "import numpy as np\n",
    "import pandas as pd\n",
    "from sklearn.model_selection import train_test_split\n",
    "from sklearn.feature_extraction.text import TfidfVectorizer\n",
    "from sklearn.linear_model import LogisticRegression\n",
    "from sklearn.metrics import accuracy_score\n",
    "\n",
    "import torch\n",
    "from torchtext import data\n",
    "from sklearn.metrics import f1_score\n",
    "import pandas as pd \n",
    "import re\n",
    "import random\n",
    "import spacy\n",
    "import torch.nn as nn\n",
    "import torch.nn.functional as F\n",
    "import torch.nn as nn\n",
    "from sklearn.preprocessing import StandardScaler\n",
    "import torch.optim as optim\n",
    "import tqdm\n",
    "import matplotlib.pyplot as plt"
   ]
  },
  {
   "cell_type": "code",
   "execution_count": 54,
   "id": "4f7e0d19",
   "metadata": {},
   "outputs": [],
   "source": [
    "# Loading the data from CSV file to a Pandas Data Frame \n",
    "raw_mail_data = pd.read_csv('./data/mail_data.csv')"
   ]
  },
  {
   "cell_type": "code",
   "execution_count": 55,
   "id": "7bbab551",
   "metadata": {},
   "outputs": [
    {
     "name": "stdout",
     "output_type": "stream",
     "text": [
      "  Category                                            Message\n",
      "0      ham  Go until jurong point, crazy.. Available only ...\n",
      "1      ham                      Ok lar... Joking wif u oni...\n",
      "2     spam  Free entry in 2 a wkly comp to win FA Cup fina...\n",
      "3      ham  U dun say so early hor... U c already then say...\n",
      "4      ham  Nah I don't think he goes to usf, he lives aro...\n"
     ]
    }
   ],
   "source": [
    "print(raw_mail_data.head())"
   ]
  },
  {
   "cell_type": "code",
   "execution_count": 56,
   "id": "7c43430d",
   "metadata": {},
   "outputs": [],
   "source": [
    "# Replaces the null values in the data with an empty string\n",
    "mail_data = raw_mail_data.where((pd.notnull(raw_mail_data)),'')"
   ]
  },
  {
   "cell_type": "code",
   "execution_count": 35,
   "id": "c46c8067",
   "metadata": {},
   "outputs": [
    {
     "data": {
      "text/html": [
       "<div>\n",
       "<style scoped>\n",
       "    .dataframe tbody tr th:only-of-type {\n",
       "        vertical-align: middle;\n",
       "    }\n",
       "\n",
       "    .dataframe tbody tr th {\n",
       "        vertical-align: top;\n",
       "    }\n",
       "\n",
       "    .dataframe thead th {\n",
       "        text-align: right;\n",
       "    }\n",
       "</style>\n",
       "<table border=\"1\" class=\"dataframe\">\n",
       "  <thead>\n",
       "    <tr style=\"text-align: right;\">\n",
       "      <th></th>\n",
       "      <th>Category</th>\n",
       "      <th>Message</th>\n",
       "    </tr>\n",
       "  </thead>\n",
       "  <tbody>\n",
       "    <tr>\n",
       "      <th>0</th>\n",
       "      <td>ham</td>\n",
       "      <td>Go until jurong point, crazy.. Available only ...</td>\n",
       "    </tr>\n",
       "    <tr>\n",
       "      <th>1</th>\n",
       "      <td>ham</td>\n",
       "      <td>Ok lar... Joking wif u oni...</td>\n",
       "    </tr>\n",
       "    <tr>\n",
       "      <th>2</th>\n",
       "      <td>spam</td>\n",
       "      <td>Free entry in 2 a wkly comp to win FA Cup fina...</td>\n",
       "    </tr>\n",
       "    <tr>\n",
       "      <th>3</th>\n",
       "      <td>ham</td>\n",
       "      <td>U dun say so early hor... U c already then say...</td>\n",
       "    </tr>\n",
       "    <tr>\n",
       "      <th>4</th>\n",
       "      <td>ham</td>\n",
       "      <td>Nah I don't think he goes to usf, he lives aro...</td>\n",
       "    </tr>\n",
       "  </tbody>\n",
       "</table>\n",
       "</div>"
      ],
      "text/plain": [
       "  Category                                            Message\n",
       "0      ham  Go until jurong point, crazy.. Available only ...\n",
       "1      ham                      Ok lar... Joking wif u oni...\n",
       "2     spam  Free entry in 2 a wkly comp to win FA Cup fina...\n",
       "3      ham  U dun say so early hor... U c already then say...\n",
       "4      ham  Nah I don't think he goes to usf, he lives aro..."
      ]
     },
     "execution_count": 35,
     "metadata": {},
     "output_type": "execute_result"
    }
   ],
   "source": [
    "mail_data.head()"
   ]
  },
  {
   "cell_type": "code",
   "execution_count": 36,
   "id": "0693b671",
   "metadata": {},
   "outputs": [
    {
     "data": {
      "text/plain": [
       "(5572, 2)"
      ]
     },
     "execution_count": 36,
     "metadata": {},
     "output_type": "execute_result"
    }
   ],
   "source": [
    "#Checking the number of rows and columns\n",
    "mail_data.shape"
   ]
  },
  {
   "cell_type": "markdown",
   "id": "0a0cef2d",
   "metadata": {},
   "source": [
    "# Lable encoding"
   ]
  },
  {
   "cell_type": "code",
   "execution_count": 37,
   "id": "a265239a",
   "metadata": {},
   "outputs": [],
   "source": [
    "# change the spam and non spam lables of the emails with 1 and zero\n",
    "mail_data.loc[mail_data['Category'] == 'spam','Category',] = 0\n",
    "mail_data.loc[mail_data['Category'] == 'ham','Category',] = 1"
   ]
  },
  {
   "cell_type": "code",
   "execution_count": 38,
   "id": "c2833eee",
   "metadata": {},
   "outputs": [],
   "source": [
    "# Seperating the data into features and targets\n",
    "X, Y = mail_data['Message'], mail_data['Category']"
   ]
  },
  {
   "cell_type": "code",
   "execution_count": 39,
   "id": "7bd5828d",
   "metadata": {},
   "outputs": [
    {
     "name": "stderr",
     "output_type": "stream",
     "text": [
      "100%|█████████████████████████████████████████████████████████████████████████████| 5572/5572 [00:29<00:00, 190.70it/s]\n"
     ]
    }
   ],
   "source": [
    "nlp = spacy.load('en_core_web_md')\n",
    "X_vector = []\n",
    "pbar = tqdm.trange(X.shape[0])\n",
    "for t in pbar:\n",
    "    doc = nlp(X[t])\n",
    "    doc_tensor = []\n",
    "    for i in range(len(doc)):\n",
    "        word_tensor = torch.tensor(doc[i].vector)\n",
    "        doc_tensor.append(word_tensor.reshape(1,len(word_tensor)))\n",
    "    X_vector.append(doc_tensor)"
   ]
  },
  {
   "cell_type": "code",
   "execution_count": 49,
   "id": "0bd96e2e",
   "metadata": {},
   "outputs": [
    {
     "name": "stdout",
     "output_type": "stream",
     "text": [
      "(4457,) (1115,)\n"
     ]
    }
   ],
   "source": [
    "X_vector = np.array(X_vector)\n",
    "X_train, X_test, Y_train, Y_test = train_test_split(X_vector, Y, test_size=0.2, random_state= 3)\n",
    "\n",
    "Y_train = Y_train.astype(\"int64\")\n",
    "Y_test = Y_test.astype(\"int64\")\n",
    "\n",
    "Y_train = torch.from_numpy(Y_train.values)\n",
    "Y_test = torch.from_numpy(Y_test.values)\n",
    "\n",
    "Y_test = Y_test.view(Y_test.shape[0],1)\n",
    "Y_train = Y_train.view(Y_train.shape[0],1)\n",
    "\n",
    "print(X_train.shape, X_test.shape)"
   ]
  },
  {
   "cell_type": "code",
   "execution_count": 50,
   "id": "50b424c4",
   "metadata": {},
   "outputs": [],
   "source": [
    "class RNN(nn.Module):\n",
    "    def __init__(self, input_size, hidden_dims,  hidden_size, output_size):\n",
    "        super(RNN, self).__init__()\n",
    "        \n",
    "        self.hidden_size = hidden_size\n",
    "        self.i2h_ = nn.Linear(input_size + hidden_size, hidden_dims)\n",
    "        self.h_2h = nn.Linear(hidden_dims, hidden_size)\n",
    "        self.i2h = nn.Linear(input_size + hidden_size, hidden_dims)\n",
    "        self.h2o = nn.Linear(hidden_dims, output_size)\n",
    "        self.softmax = nn.LogSoftmax(dim= 1)\n",
    "        \n",
    "    def forward(self, input_tensor, hidden_tensor):\n",
    "        combined = torch.cat((input_tensor, hidden_tensor), 1)\n",
    "        hidden1  = self.i2h_(combined)\n",
    "        hidden = self.h_2h(hidden1)\n",
    "        hidden2 = self.i2h(combined)\n",
    "        output = self.softmax(self.h2o(hidden2))\n",
    "        return output, hidden\n",
    "    \n",
    "    def init_hidden(self):\n",
    "        return torch.zeros(1, self.hidden_size)"
   ]
  },
  {
   "cell_type": "code",
   "execution_count": 51,
   "id": "8375f804",
   "metadata": {},
   "outputs": [
    {
     "name": "stdout",
     "output_type": "stream",
     "text": [
      "1000 1.0 1.5444 / 1 Wrong (0)\n",
      "2000 2.0 0.1666 / 1 Correct\n",
      "3000 3.0 0.0227 / 1 Correct\n",
      "4000 4.0 0.0017 / 1 Correct\n",
      "5000 5.0 0.0017 / 1 Correct\n",
      "6000 6.0 0.0021 / 1 Correct\n",
      "7000 7.000000000000001 0.0456 / 1 Correct\n",
      "8000 8.0 0.5530 / 1 Correct\n",
      "9000 9.0 0.0004 / 1 Correct\n",
      "10000 10.0 0.0135 / 1 Correct\n",
      "11000 11.0 0.3304 / 0 Correct\n",
      "12000 12.0 0.0001 / 1 Correct\n",
      "13000 13.0 0.0002 / 1 Correct\n",
      "14000 14.000000000000002 0.0000 / 1 Correct\n",
      "15000 15.0 0.0000 / 1 Correct\n",
      "16000 16.0 0.0002 / 1 Correct\n",
      "17000 17.0 0.0021 / 1 Correct\n",
      "18000 18.0 0.0630 / 1 Correct\n",
      "19000 19.0 0.0000 / 1 Correct\n",
      "20000 20.0 0.0001 / 1 Correct\n",
      "21000 21.0 0.0001 / 1 Correct\n",
      "22000 22.0 0.0000 / 1 Correct\n",
      "23000 23.0 0.0057 / 0 Correct\n",
      "24000 24.0 0.0008 / 1 Correct\n",
      "25000 25.0 0.0320 / 1 Correct\n",
      "26000 26.0 0.1654 / 1 Correct\n",
      "27000 27.0 0.0462 / 1 Correct\n",
      "28000 28.000000000000004 0.0000 / 1 Correct\n",
      "29000 28.999999999999996 0.0022 / 1 Correct\n",
      "30000 30.0 0.0017 / 1 Correct\n",
      "31000 31.0 0.0000 / 1 Correct\n",
      "32000 32.0 0.0292 / 1 Correct\n",
      "33000 33.0 0.0112 / 1 Correct\n",
      "34000 34.0 0.0000 / 1 Correct\n",
      "35000 35.0 0.0000 / 1 Correct\n",
      "36000 36.0 0.4197 / 1 Correct\n",
      "37000 37.0 0.0074 / 1 Correct\n",
      "38000 38.0 0.0008 / 0 Correct\n",
      "39000 39.0 0.0000 / 1 Correct\n",
      "40000 40.0 0.0000 / 1 Correct\n",
      "41000 41.0 0.0004 / 1 Correct\n",
      "42000 42.0 0.0179 / 1 Correct\n",
      "43000 43.0 0.0009 / 1 Correct\n",
      "44000 44.0 0.0122 / 1 Correct\n",
      "45000 45.0 0.0057 / 1 Correct\n",
      "46000 46.0 0.0013 / 1 Correct\n",
      "47000 47.0 0.0001 / 1 Correct\n",
      "48000 48.0 0.0000 / 1 Correct\n",
      "49000 49.0 0.0066 / 0 Correct\n",
      "50000 50.0 1.7978 / 1 Wrong (0)\n",
      "51000 51.0 0.1566 / 1 Correct\n",
      "52000 52.0 0.0000 / 1 Correct\n",
      "53000 53.0 0.0000 / 1 Correct\n",
      "54000 54.0 0.0114 / 1 Correct\n",
      "55000 55.00000000000001 0.0000 / 1 Correct\n",
      "56000 56.00000000000001 0.0003 / 1 Correct\n",
      "57000 56.99999999999999 0.0000 / 0 Correct\n",
      "58000 57.99999999999999 0.0000 / 1 Correct\n",
      "59000 59.0 0.0000 / 0 Correct\n",
      "60000 60.0 0.0000 / 1 Correct\n",
      "61000 61.0 0.0000 / 1 Correct\n",
      "62000 62.0 0.0000 / 1 Correct\n",
      "63000 63.0 0.0000 / 1 Correct\n",
      "64000 64.0 0.0000 / 1 Correct\n",
      "65000 65.0 0.2135 / 1 Correct\n",
      "66000 66.0 0.0001 / 1 Correct\n",
      "67000 67.0 0.1826 / 1 Correct\n",
      "68000 68.0 0.0000 / 1 Correct\n",
      "69000 69.0 0.0000 / 1 Correct\n",
      "70000 70.0 0.0000 / 1 Correct\n",
      "71000 71.0 0.0000 / 1 Correct\n",
      "72000 72.0 0.0000 / 1 Correct\n",
      "73000 73.0 0.0001 / 1 Correct\n",
      "74000 74.0 0.0000 / 1 Correct\n",
      "75000 75.0 0.0000 / 1 Correct\n",
      "76000 76.0 0.0000 / 1 Correct\n",
      "77000 77.0 0.0000 / 0 Correct\n",
      "78000 78.0 0.0007 / 1 Correct\n",
      "79000 79.0 0.0000 / 0 Correct\n",
      "80000 80.0 0.0000 / 1 Correct\n",
      "81000 81.0 0.0004 / 1 Correct\n",
      "82000 82.0 0.0048 / 1 Correct\n",
      "83000 83.0 0.0020 / 1 Correct\n",
      "84000 84.0 0.0000 / 1 Correct\n",
      "85000 85.0 0.0000 / 1 Correct\n",
      "86000 86.0 0.0098 / 1 Correct\n",
      "87000 87.0 0.0000 / 1 Correct\n",
      "88000 88.0 0.0000 / 1 Correct\n",
      "89000 89.0 0.0000 / 1 Correct\n",
      "90000 90.0 0.0001 / 1 Correct\n",
      "91000 91.0 0.0018 / 0 Correct\n",
      "92000 92.0 0.0000 / 1 Correct\n",
      "93000 93.0 0.0000 / 1 Correct\n",
      "94000 94.0 2.3944 / 1 Wrong (0)\n",
      "95000 95.0 0.0000 / 1 Correct\n",
      "96000 96.0 0.0000 / 1 Correct\n",
      "97000 97.0 0.0000 / 1 Correct\n",
      "98000 98.0 0.0001 / 1 Correct\n",
      "99000 99.0 0.0000 / 0 Correct\n",
      "100000 100.0 0.0000 / 1 Correct\n"
     ]
    }
   ],
   "source": [
    "# we will keep feeding the RNN one row at a time \n",
    "input_size = 300\n",
    "n_hidden = 300\n",
    "hidden_dims = 200\n",
    "\n",
    "n_categories = 2\n",
    "num_epochs = 2\n",
    "learning_rate = 0.0005\n",
    "all_losses = []\n",
    "\n",
    "rnn = RNN(input_size, hidden_dims, n_hidden, n_categories)\n",
    "\n",
    "criterion = nn.NLLLoss()\n",
    "optimizer = torch.optim.SGD(rnn.parameters(), lr=learning_rate)\n",
    "\n",
    "n_iters = 100000\n",
    "current_loss = 0\n",
    "\n",
    "plot_steps, print_steps = 1000, 1000\n",
    "\n",
    "def category_from_output(output):\n",
    "    category_index = torch.argmax(output).item()\n",
    "    return category_index\n",
    "\n",
    "for i in range(n_iters):\n",
    "    hidden = rnn.init_hidden()\n",
    "    index = random.randint(0, len(X_train) - 1)\n",
    "    doc = X_train[index]\n",
    "    for word_tensor in doc:\n",
    "        output, hidden = rnn(word_tensor, hidden)\n",
    "    loss = criterion(output, Y_train[index])\n",
    "    optimizer.zero_grad()\n",
    "    loss.backward()\n",
    "    optimizer.step()\n",
    "    \n",
    "    current_loss += loss.item()\n",
    "    \n",
    "    if (i+1) % plot_steps == 0:\n",
    "        all_losses.append(current_loss/ plot_steps)\n",
    "        current_loss = 0\n",
    "        \n",
    "    if (i+1) % print_steps == 0:\n",
    "        guess = category_from_output(output)\n",
    "        correct = \"Correct\" if guess == Y_train[index].item() else f\"Wrong ({Y_train[index].item()})\"\n",
    "        print(f\"{i+1} {(i+1)/n_iters*100} {loss:.4f} / {guess} {correct}\")"
   ]
  },
  {
   "cell_type": "code",
   "execution_count": 57,
   "id": "da93bc56",
   "metadata": {},
   "outputs": [
    {
     "data": {
      "image/png": "[encoded data removed]",
      "text/plain": [
       "<Figure size 432x288 with 1 Axes>"
      ]
     },
     "metadata": {
      "needs_background": "light"
     },
     "output_type": "display_data"
    }
   ],
   "source": [
    "plt.figure()\n",
    "plt.plot(all_losses)\n",
    "plt.show()"
   ]
  },
  {
   "cell_type": "code",
   "execution_count": 58,
   "id": "0a3b394a",
   "metadata": {},
   "outputs": [
    {
     "name": "stdout",
     "output_type": "stream",
     "text": [
      "0.9641255605381166\n"
     ]
    }
   ],
   "source": [
    "correct = 0\n",
    "y_pred = []\n",
    "y_true = []\n",
    "for i , doc  in enumerate(X_test):\n",
    "    hidden = rnn.init_hidden()\n",
    "    for word_tensor in doc:\n",
    "        output, hidden = rnn(word_tensor, hidden)\n",
    "    guess  = category_from_output(output)\n",
    "    y_pred.append(guess)\n",
    "    y_true.append(Y_test[i].item())\n",
    "    if guess == Y_test[i].item():\n",
    "        correct += 1\n",
    "print(correct/ Y_test.shape[0])"
   ]
  },
  {
   "cell_type": "markdown",
   "id": "d8efa181",
   "metadata": {},
   "source": [
    "# Splitting Data into Test and Train"
   ]
  },
  {
   "cell_type": "code",
   "execution_count": 42,
   "id": "f48fcfbe",
   "metadata": {},
   "outputs": [],
   "source": [
    "X_train, X_test, Y_train, Y_test = train_test_split(X, Y, test_size=0.2, random_state= 3)"
   ]
  },
  {
   "cell_type": "code",
   "execution_count": 43,
   "id": "14dca351",
   "metadata": {},
   "outputs": [
    {
     "name": "stdout",
     "output_type": "stream",
     "text": [
      "(4457,) (1115,)\n"
     ]
    }
   ],
   "source": [
    "print(X_train.shape, X_test.shape)"
   ]
  },
  {
   "cell_type": "markdown",
   "id": "f6c96816",
   "metadata": {},
   "source": [
    "# Feature Extraction"
   ]
  },
  {
   "cell_type": "code",
   "execution_count": 47,
   "id": "811c2c8a",
   "metadata": {},
   "outputs": [],
   "source": [
    "# Transfrom The text data into feature vector used as input to the ml model\n",
    "# Goes over all the words in the data set and based on its frequence will give those words a value\n",
    "# Min_df = 1 states that if the sore allocated to a word is less than one then we ignore it\n",
    "feature_extraction = TfidfVectorizer(min_df = 1, stop_words='english', lowercase='True')\n",
    "# Below we fit the vectorizer to the training data \n",
    "X_train_features = feature_extraction.fit_transform(X_train)\n",
    "# not need to fit this time only transform based on the previous fit\n",
    "X_test_features = feature_extraction.transform(X_test)\n",
    "\n",
    "# convert all values of Y_train and Y_test to integers \n",
    "Y_train = Y_train.astype(\"int\")\n",
    "Y_test = Y_test.astype(\"int\")"
   ]
  },
  {
   "cell_type": "code",
   "execution_count": 50,
   "id": "5cbf8a72",
   "metadata": {},
   "outputs": [
    {
     "name": "stdout",
     "output_type": "stream",
     "text": [
      "(4457, 7431)\n"
     ]
    }
   ],
   "source": [
    "print(X_train_features.shape)"
   ]
  },
  {
   "cell_type": "markdown",
   "id": "cc302abb",
   "metadata": {},
   "source": [
    "# Training"
   ]
  },
  {
   "cell_type": "code",
   "execution_count": 51,
   "id": "d08e681c",
   "metadata": {},
   "outputs": [],
   "source": [
    "model = LogisticRegression()\n",
    "# training the logistic regression model with the training data \n",
    "model.fit(X_train_features, Y_train)"
   ]
  },
  {
   "cell_type": "markdown",
   "id": "7e40d0c1",
   "metadata": {},
   "source": [
    "# Evaluation of Model"
   ]
  },
  {
   "cell_type": "code",
   "execution_count": 60,
   "id": "e1522d01",
   "metadata": {},
   "outputs": [],
   "source": [
    "prediction_on_train_data = model.predict(X_train_features)\n",
    "accuracy_on_train_data = accuracy_score(Y_train, prediction_on_train_data)"
   ]
  },
  {
   "cell_type": "code",
   "execution_count": 61,
   "id": "924a4efb",
   "metadata": {},
   "outputs": [
    {
     "name": "stdout",
     "output_type": "stream",
     "text": [
      "0.9670181736594121\n"
     ]
    }
   ],
   "source": [
    "print(accuracy_on_train_data)"
   ]
  },
  {
   "cell_type": "code",
   "execution_count": 62,
   "id": "b625933d",
   "metadata": {},
   "outputs": [],
   "source": [
    "prediction_on_test_data = model.predict(X_test_features)\n",
    "accuracy_on_test_data = accuracy_score(Y_test, prediction_on_test_data)"
   ]
  },
  {
   "cell_type": "code",
   "execution_count": 63,
   "id": "a858fcc6",
   "metadata": {},
   "outputs": [
    {
     "name": "stdout",
     "output_type": "stream",
     "text": [
      "0.9659192825112107\n"
     ]
    }
   ],
   "source": [
    "print(accuracy_on_test_data)"
   ]
  },
  {
   "cell_type": "markdown",
   "id": "cd63be81",
   "metadata": {},
   "source": [
    "# Building a predictive system"
   ]
  },
  {
   "cell_type": "code",
   "execution_count": 66,
   "id": "5b181dee",
   "metadata": {},
   "outputs": [
    {
     "name": "stdout",
     "output_type": "stream",
     "text": [
      "[0]\n"
     ]
    }
   ],
   "source": [
    "input_mail = [\"Free entry in 2 a wkly comp to win FA Cup final tkts 21st May 2005. Text FA to 87121 to receive entry question(std txt rate)T&C's apply 08452810075over18's\"]\n",
    "input_feature_mail = feature_extraction.transform(input_mail)\n",
    "print(model.predict(input_feature_mail))"
   ]
  },
  {
   "cell_type": "code",
   "execution_count": null,
   "id": "a34a16a1",
   "metadata": {},
   "outputs": [],
   "source": []
  }
 ],
 "metadata": {
  "kernelspec": {
   "display_name": "Python 3 (ipykernel)",
   "language": "python",
   "name": "python3"
  },
  "language_info": {
   "codemirror_mode": {
    "name": "ipython",
    "version": 3
   },
   "file_extension": ".py",
   "mimetype": "text/x-python",
   "name": "python",
   "nbconvert_exporter": "python",
   "pygments_lexer": "ipython3",
   "version": "3.9.12"
  }
 },
 "nbformat": 4,
 "nbformat_minor": 5
}
